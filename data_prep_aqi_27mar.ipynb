{
 "cells": [
  {
   "cell_type": "code",
   "execution_count": null,
   "metadata": {},
   "outputs": [],
   "source": []
  },
  {
   "cell_type": "code",
   "execution_count": 1,
   "metadata": {},
   "outputs": [],
   "source": [
    "import pandas as pd\n",
    "import json\n",
    "import csv\n",
    "from datetime import datetime\n",
    "import json"
   ]
  },
  {
   "cell_type": "code",
   "execution_count": 2,
   "metadata": {},
   "outputs": [
    {
     "name": "stderr",
     "output_type": "stream",
     "text": [
      "c:\\Python312\\Lib\\site-packages\\tqdm\\auto.py:21: TqdmWarning: IProgress not found. Please update jupyter and ipywidgets. See https://ipywidgets.readthedocs.io/en/stable/user_install.html\n",
      "  from .autonotebook import tqdm as notebook_tqdm\n",
      "Importing plotly failed. Interactive plots will not work.\n"
     ]
    }
   ],
   "source": [
    "from prophet import *\n",
    "from prophet.plot import *\n",
    "from prophet.serialize import model_to_json, model_from_json\n",
    "\n",
    "from prophet import Prophet"
   ]
  },
  {
   "cell_type": "code",
   "execution_count": 3,
   "metadata": {},
   "outputs": [],
   "source": [
    "import os"
   ]
  },
  {
   "cell_type": "code",
   "execution_count": 4,
   "metadata": {},
   "outputs": [],
   "source": [
    "import requests"
   ]
  },
  {
   "cell_type": "code",
   "execution_count": 36,
   "metadata": {},
   "outputs": [
    {
     "data": {
      "text/plain": [
       "['./aqi_apr_29\\\\weekone',\n",
       " './aqi_apr_29\\\\weektwo',\n",
       " './aqi_apr_29\\\\weekthree',\n",
       " './aqi_apr_29\\\\weekfour']"
      ]
     },
     "execution_count": 36,
     "metadata": {},
     "output_type": "execute_result"
    }
   ],
   "source": [
    "import os\n",
    "\n",
    "\n",
    "def create_folders(base_path, folder_names):\n",
    "    \"\"\"\n",
    "    Create folders in the specified base path.\n",
    "\n",
    "    Parameters:\n",
    "    - base_path (str): The path where the folders will be created.\n",
    "    - folder_names (list): A list of folder names to create within the base path.\n",
    "\n",
    "    Returns:\n",
    "    - list: A list of paths for the folders that were created.\n",
    "    \"\"\"\n",
    "    created_folders = []\n",
    "    for folder_name in folder_names:\n",
    "        # Construct the full path for the folder\n",
    "        folder_path = os.path.join(base_path, folder_name)\n",
    "\n",
    "        # Check if the folder already exists, and if not, create it\n",
    "        if not os.path.exists(folder_path):\n",
    "            os.makedirs(folder_path)\n",
    "            created_folders.append(folder_path)\n",
    "\n",
    "    return created_folders\n",
    "\n",
    "\n",
    "# Example usage:\n",
    "base_path = \"./aqi_apr_29\"  # Replace with your desired base path\n",
    "folder_names = [\n",
    "    \"weekone\",\n",
    "    \"weektwo\",\n",
    "    \"weekthree\",\n",
    "    \"weekfour\",\n",
    "]  # Replace with your desired folder names\n",
    "\n",
    "# Call the function and print the created folder paths\n",
    "created_folders = create_folders(base_path, folder_names)\n",
    "created_folders"
   ]
  },
  {
   "cell_type": "code",
   "execution_count": 45,
   "metadata": {},
   "outputs": [],
   "source": [
    "# SIMULATING CRON JOB ON 26th MAR\n",
    "\n",
    "RANGE_START = 1606266000 # OPEN WEATHER AQI DATA RANGE START \n",
    "FIRST_END = 1708713000 \n",
    "# Your time zone: Saturday, 20 April 2024 05:30:00 GMT+05:30\n",
    "\n",
    "time_meta = {\n",
    "    \"weekfour\": {\"s\": RANGE_START, \"e\": FIRST_END + 604800},\n",
    "    \"weekthree\": {\"s\": RANGE_START, \"e\": FIRST_END + 604800 + 604800},\n",
    "    \"weektwo\": {\"s\": RANGE_START, \"e\": FIRST_END + 604800 + 604800 + 604800},\n",
    "    \"weekone\": {\"s\": RANGE_START, \"e\": FIRST_END + 604800 + 604800 + 604800 + 604800},\n",
    "}"
   ]
  },
  {
   "cell_type": "code",
   "execution_count": 46,
   "metadata": {},
   "outputs": [
    {
     "ename": "KeyError",
     "evalue": "'week4'",
     "output_type": "error",
     "traceback": [
      "\u001b[1;31m---------------------------------------------------------------------------\u001b[0m",
      "\u001b[1;31mKeyError\u001b[0m                                  Traceback (most recent call last)",
      "Cell \u001b[1;32mIn[46], line 1\u001b[0m\n\u001b[1;32m----> 1\u001b[0m \u001b[43mtime_meta\u001b[49m\u001b[43m[\u001b[49m\u001b[38;5;124;43m'\u001b[39;49m\u001b[38;5;124;43mweek4\u001b[39;49m\u001b[38;5;124;43m'\u001b[39;49m\u001b[43m]\u001b[49m\n",
      "\u001b[1;31mKeyError\u001b[0m: 'week4'"
     ]
    }
   ],
   "source": [
    "time_meta['week4']"
   ]
  },
  {
   "cell_type": "code",
   "execution_count": 47,
   "metadata": {},
   "outputs": [
    {
     "data": {
      "text/plain": [
       "1709317800"
      ]
     },
     "execution_count": 47,
     "metadata": {},
     "output_type": "execute_result"
    }
   ],
   "source": [
    "\n",
    "# 7 * 24 * 60 * 60 \n",
    "604800 +1708713000 "
   ]
  },
  {
   "cell_type": "code",
   "execution_count": 48,
   "metadata": {},
   "outputs": [],
   "source": [
    "\n",
    "# 1. Delhi: 388\n",
    "\n",
    "# 2. Bikaner: 377\n",
    "\n",
    "# 3. Bhiwadi: 362\n",
    "\n",
    "# 4. Hanumangarh: 360\n",
    "\n",
    "# 5. Noida: 358\n",
    "\n",
    "# 6. Greater Noida: 356\n",
    "\n",
    "# 7. Meerut 355\n",
    "\n",
    "# 8. Rajgir: 345\n",
    "\n",
    "# 9. Arrah: 342\n",
    "\n",
    "# 10. Manesar: 339\n",
    "\n",
    "\n",
    "\n",
    "meta = {\n",
    "    \"bangalore\":{\n",
    "        \"lat\": 12.9767936,\n",
    "        \"lon\": 77.590082,\n",
    "    },\n",
    "    \"delhi\":{\n",
    "        \"lat\": 28.6517178,\n",
    "        \"lon\": 77.2219388,\n",
    "    },\n",
    "    \"lucknow\":{\n",
    "        \"lat\": 26.8381,\n",
    "        \"lon\": 80.9346001,\n",
    "    },\n",
    "    \"chennai\":{\n",
    "        \"lat\": 13.0836939,\n",
    "        \"lon\": 80.270186,\n",
    "    }\n",
    "}\n",
    "\n",
    "# BASE = 'AQI_march_1'\n",
    "\n",
    "# s = 1705861800\n",
    "# e = 1711305000\n"
   ]
  },
  {
   "cell_type": "code",
   "execution_count": 49,
   "metadata": {},
   "outputs": [],
   "source": [
    "def get_data(meta, s,e,BASE):\n",
    "    for k,v in enumerate(meta):\n",
    "        print(v)\n",
    "        print(meta[v]['lat'] , meta[v]['lon'])\n",
    "        \n",
    "        sdt = datetime.fromtimestamp(s)\n",
    "        edt = datetime.fromtimestamp(e)\n",
    "        \n",
    "        print(sdt , edt)\n",
    "\n",
    "        # Format the datetime as DD_MM_YY_HH_MM_SS\n",
    "        sdt = sdt.strftime('%d_%m_%y_%H_%M_%S')\n",
    "        edt = edt.strftime('%d_%m_%y_%H_%M_%S')\n",
    "        \n",
    "        lat = meta[v]['lat']\n",
    "        long = meta[v]['lon']\n",
    "\n",
    "        key = \"cdde2404b1a47c8b46ba44aae32246c6\"\n",
    "        print(s,e)\n",
    "        url = f\"http://api.openweathermap.org/data/2.5/air_pollution/history?lat={lat}&lon={long}&start={s}&end={e}&appid={key}\"\n",
    "\n",
    "        payload = {}\n",
    "        headers = {}\n",
    "\n",
    "        file_name = f'./{BASE}/{v}_{sdt}_to_{edt}.json'\n",
    "        print('FILE NAME ', v ,'-',file_name)\n",
    "\n",
    "        response = requests.request(\"GET\", url, headers=headers, data=payload)\n",
    "\n",
    "        data = response.json()\n",
    "        # Write the JSON data to a file\n",
    "        with open(file_name, 'w') as json_file:\n",
    "            json.dump(data, json_file, indent=4)\n",
    "            \n",
    "\n",
    "        json_path = file_name\n",
    "        \n",
    "        with open(json_path, 'r') as f:\n",
    "            json_data = json.load(f)\n",
    "            # print(data)\n",
    "\n",
    "        csv_file_name = f'./{BASE}/{v}_{sdt}_to_{edt}_raw.csv'\n",
    "        \n",
    "        with open(csv_file_name, mode='w', newline='') as file:\n",
    "        # Create a CSV writer\n",
    "            writer = csv.writer(file)\n",
    "            \n",
    "            # Write the header\n",
    "            headers = ['dt', 'aqi', 'co', 'no', 'no2', 'o3', 'so2', 'pm2_5', 'pm10', 'nh3']\n",
    "            writer.writerow(headers)\n",
    "            \n",
    "            # Iterate through each item in the list\n",
    "            for item in json_data[\"list\"]:\n",
    "                # Extract data\n",
    "                dt = datetime.fromtimestamp(item[\"dt\"]).strftime('%Y-%m-%d %H:%M:%S')\n",
    "                \n",
    "                aqi = item[\"main\"][\"aqi\"]\n",
    "                components = item[\"components\"]\n",
    "                \n",
    "                # Write row data\n",
    "                row = [dt, aqi] + [components[key] for key in headers[2:]]  # Dynamically extract component values\n",
    "                writer.writerow(row)\n",
    "                \n",
    "        \n",
    "        print('SAVED IN ',csv_file_name)\n",
    "        \n",
    "        df = pd.read_csv(csv_file_name)\n",
    "        df['dt'] = pd.to_datetime(df['dt'])\n",
    "        print(\"RAW DF LENGTH\" , df.shape)\n",
    "        df = df.resample(rule='D',on='dt').max()\n",
    "        # df['dt'] = df.index\n",
    "        df.reset_index(inplace=True)    \n",
    "        resampled_path = f'./{BASE}/{v}_aqi_csv.csv'\n",
    "        df.to_csv(f'{resampled_path}')\n",
    "        print(\" ------------ DF META --------- \")\n",
    "        print(v)\n",
    "        print(\"DAILY DF LENGTH \",df.shape)\n",
    "        print(df.head(1))\n",
    "        print(df.tail(1))\n",
    "        print(df.columns)\n",
    "        # print(df.columns)\n",
    "        \n",
    "        # -------------- TRAIN \n",
    "        # data = df\n",
    "        print(\"EXTRACTION DONE __ \")\n",
    "        print(\"TRAINING AND SERIALIZATION \")\n",
    "        # data['time'] = pd.to_datetime(data['dt'], dayfirst=True)\n",
    "        df['aqi'] = df['aqi'].interpolate(method='linear')\n",
    "        data_prophet = df[['dt', 'aqi']].rename(columns={'dt': 'ds', 'aqi': 'y'})\n",
    "\n",
    "        # split_date = '2022-01-01'\n",
    "        # train = data_prophet[data_prophet['ds'] < split_date]\n",
    "        # test = data_prophet[data_prophet['ds'] >= split_date]\n",
    "        # train = data\n",
    "\n",
    "        model_optimized = Prophet(\n",
    "            changepoint_prior_scale=0.01,\n",
    "            seasonality_prior_scale=1.0,\n",
    "        )\n",
    "        model_optimized.fit(data_prophet)\n",
    "\n",
    "\n",
    "        future = model_optimized.make_future_dataframe(periods=365) # horizon\n",
    "        future['yearly'] = future['ds'].apply(lambda x: x.year - 1) # addition\n",
    "        forecast = model_optimized.predict(future)\n",
    "        with open(f'./{BASE}/{v}_aqi_csv.json', 'w') as fout:\n",
    "            fout.write(model_to_json(model_optimized))  # Save model\n",
    "        print(\"model saved\",v)\n",
    "        forecast.to_csv(f'./{BASE}/{v}_aqi_csv_forecast.csv', index=False)\n",
    "        print(\"prediction file saved\",v)\n"
   ]
  },
  {
   "cell_type": "code",
   "execution_count": 50,
   "metadata": {},
   "outputs": [
    {
     "name": "stdout",
     "output_type": "stream",
     "text": [
      "1606266000 1709317800\n",
      "bangalore\n",
      "12.9767936 77.590082\n",
      "2020-11-25 06:30:00 2024-03-02 00:00:00\n",
      "1606266000 1709317800\n",
      "FILE NAME  bangalore - ./aqi_apr_29/weekfour/bangalore_25_11_20_06_30_00_to_02_03_24_00_00_00.json\n"
     ]
    },
    {
     "name": "stderr",
     "output_type": "stream",
     "text": [
      "02:37:03 - cmdstanpy - INFO - Chain [1] start processing\n"
     ]
    },
    {
     "name": "stdout",
     "output_type": "stream",
     "text": [
      "SAVED IN  ./aqi_apr_29/weekfour/bangalore_25_11_20_06_30_00_to_02_03_24_00_00_00_raw.csv\n",
      "RAW DF LENGTH (28266, 10)\n",
      " ------------ DF META --------- \n",
      "bangalore\n",
      "DAILY DF LENGTH  (1193, 10)\n",
      "          dt  aqi      co   no    no2      o3  so2  pm2_5   pm10   nh3\n",
      "0 2020-11-25  5.0  560.76  0.4  15.25  120.16  9.3  80.03  86.66  1.71\n",
      "             dt  aqi       co     no    no2      o3   so2  pm2_5   pm10   nh3\n",
      "1192 2024-03-01  3.0  1148.22  23.02  36.67  111.58  12.4  36.14  41.79  7.09\n",
      "Index(['dt', 'aqi', 'co', 'no', 'no2', 'o3', 'so2', 'pm2_5', 'pm10', 'nh3'], dtype='object')\n",
      "EXTRACTION DONE __ \n",
      "TRAINING AND SERIALIZATION \n"
     ]
    },
    {
     "name": "stderr",
     "output_type": "stream",
     "text": [
      "02:37:03 - cmdstanpy - INFO - Chain [1] done processing\n"
     ]
    },
    {
     "name": "stdout",
     "output_type": "stream",
     "text": [
      "model saved bangalore\n",
      "prediction file saved bangalore\n",
      "delhi\n",
      "28.6517178 77.2219388\n",
      "2020-11-25 06:30:00 2024-03-02 00:00:00\n",
      "1606266000 1709317800\n",
      "FILE NAME  delhi - ./aqi_apr_29/weekfour/delhi_25_11_20_06_30_00_to_02_03_24_00_00_00.json\n"
     ]
    },
    {
     "name": "stderr",
     "output_type": "stream",
     "text": [
      "02:37:15 - cmdstanpy - INFO - Chain [1] start processing\n",
      "02:37:15 - cmdstanpy - INFO - Chain [1] done processing\n"
     ]
    },
    {
     "name": "stdout",
     "output_type": "stream",
     "text": [
      "SAVED IN  ./aqi_apr_29/weekfour/delhi_25_11_20_06_30_00_to_02_03_24_00_00_00_raw.csv\n",
      "RAW DF LENGTH (28266, 10)\n",
      " ------------ DF META --------- \n",
      "delhi\n",
      "DAILY DF LENGTH  (1193, 10)\n",
      "          dt  aqi       co     no     no2      o3     so2   pm2_5    pm10  \\\n",
      "0 2020-11-25  5.0  4539.49  52.75  120.64  104.43  217.44  463.68  541.95   \n",
      "\n",
      "     nh3  \n",
      "0  50.66  \n",
      "             dt  aqi       co      no     no2     o3     so2   pm2_5   pm10  \\\n",
      "1192 2024-03-01  5.0  6942.75  169.87  175.48  70.81  247.96  499.25  611.5   \n",
      "\n",
      "        nh3  \n",
      "1192  67.89  \n",
      "Index(['dt', 'aqi', 'co', 'no', 'no2', 'o3', 'so2', 'pm2_5', 'pm10', 'nh3'], dtype='object')\n",
      "EXTRACTION DONE __ \n",
      "TRAINING AND SERIALIZATION \n",
      "model saved delhi\n",
      "prediction file saved delhi\n",
      "lucknow\n",
      "26.8381 80.9346001\n",
      "2020-11-25 06:30:00 2024-03-02 00:00:00\n",
      "1606266000 1709317800\n",
      "FILE NAME  lucknow - ./aqi_apr_29/weekfour/lucknow_25_11_20_06_30_00_to_02_03_24_00_00_00.json\n"
     ]
    },
    {
     "name": "stderr",
     "output_type": "stream",
     "text": [
      "02:37:37 - cmdstanpy - INFO - Chain [1] start processing\n"
     ]
    },
    {
     "name": "stdout",
     "output_type": "stream",
     "text": [
      "SAVED IN  ./aqi_apr_29/weekfour/lucknow_25_11_20_06_30_00_to_02_03_24_00_00_00_raw.csv\n",
      "RAW DF LENGTH (28266, 10)\n",
      " ------------ DF META --------- \n",
      "lucknow\n",
      "DAILY DF LENGTH  (1193, 10)\n",
      "          dt  aqi       co     no    no2      o3    so2   pm2_5    pm10   nh3\n",
      "0 2020-11-25  5.0  2403.26  12.07  58.26  203.13  26.46  299.76  335.66  60.8\n",
      "             dt  aqi       co    no    no2      o3    so2  pm2_5    pm10  \\\n",
      "1192 2024-03-01  5.0  2056.12  5.81  55.52  228.88  62.94  196.9  253.63   \n",
      "\n",
      "        nh3  \n",
      "1192  85.12  \n",
      "Index(['dt', 'aqi', 'co', 'no', 'no2', 'o3', 'so2', 'pm2_5', 'pm10', 'nh3'], dtype='object')\n",
      "EXTRACTION DONE __ \n",
      "TRAINING AND SERIALIZATION \n"
     ]
    },
    {
     "name": "stderr",
     "output_type": "stream",
     "text": [
      "02:37:37 - cmdstanpy - INFO - Chain [1] done processing\n"
     ]
    },
    {
     "name": "stdout",
     "output_type": "stream",
     "text": [
      "model saved lucknow\n",
      "prediction file saved lucknow\n",
      "chennai\n",
      "13.0836939 80.270186\n",
      "2020-11-25 06:30:00 2024-03-02 00:00:00\n",
      "1606266000 1709317800\n",
      "FILE NAME  chennai - ./aqi_apr_29/weekfour/chennai_25_11_20_06_30_00_to_02_03_24_00_00_00.json\n",
      "SAVED IN  ./aqi_apr_29/weekfour/chennai_25_11_20_06_30_00_to_02_03_24_00_00_00_raw.csv\n",
      "RAW DF LENGTH (28266, 10)\n",
      " ------------ DF META --------- \n",
      "chennai\n",
      "DAILY DF LENGTH  (1193, 10)\n",
      "          dt  aqi      co    no    no2      o3   so2  pm2_5   pm10   nh3\n",
      "0 2020-11-25  4.0  487.33  0.11  15.94  110.15  15.5   34.5  36.41  2.09\n",
      "             dt  aqi       co     no    no2      o3    so2   pm2_5    pm10  \\\n",
      "1192 2024-03-01  5.0  3257.75  80.47  58.95  104.43  85.83  170.86  202.22   \n",
      "\n",
      "        nh3  \n",
      "1192  25.84  \n",
      "Index(['dt', 'aqi', 'co', 'no', 'no2', 'o3', 'so2', 'pm2_5', 'pm10', 'nh3'], dtype='object')\n",
      "EXTRACTION DONE __ \n",
      "TRAINING AND SERIALIZATION \n"
     ]
    },
    {
     "name": "stderr",
     "output_type": "stream",
     "text": [
      "02:38:04 - cmdstanpy - INFO - Chain [1] start processing\n",
      "02:38:04 - cmdstanpy - INFO - Chain [1] done processing\n"
     ]
    },
    {
     "name": "stdout",
     "output_type": "stream",
     "text": [
      "model saved chennai\n",
      "prediction file saved chennai\n",
      "1606266000 1709922600\n",
      "bangalore\n",
      "12.9767936 77.590082\n",
      "2020-11-25 06:30:00 2024-03-09 00:00:00\n",
      "1606266000 1709922600\n",
      "FILE NAME  bangalore - ./aqi_apr_29/weekthree/bangalore_25_11_20_06_30_00_to_09_03_24_00_00_00.json\n"
     ]
    },
    {
     "name": "stderr",
     "output_type": "stream",
     "text": [
      "02:38:32 - cmdstanpy - INFO - Chain [1] start processing\n"
     ]
    },
    {
     "name": "stdout",
     "output_type": "stream",
     "text": [
      "SAVED IN  ./aqi_apr_29/weekthree/bangalore_25_11_20_06_30_00_to_09_03_24_00_00_00_raw.csv\n",
      "RAW DF LENGTH (28434, 10)\n",
      " ------------ DF META --------- \n",
      "bangalore\n",
      "DAILY DF LENGTH  (1200, 10)\n",
      "          dt  aqi      co   no    no2      o3  so2  pm2_5   pm10   nh3\n",
      "0 2020-11-25  5.0  560.76  0.4  15.25  120.16  9.3  80.03  86.66  1.71\n",
      "             dt  aqi      co      no     no2      o3    so2  pm2_5    pm10  \\\n",
      "1199 2024-03-08  5.0  4592.9  144.84  126.12  127.32  34.81  88.44  107.92   \n",
      "\n",
      "        nh3  \n",
      "1199  19.25  \n",
      "Index(['dt', 'aqi', 'co', 'no', 'no2', 'o3', 'so2', 'pm2_5', 'pm10', 'nh3'], dtype='object')\n",
      "EXTRACTION DONE __ \n",
      "TRAINING AND SERIALIZATION \n"
     ]
    },
    {
     "name": "stderr",
     "output_type": "stream",
     "text": [
      "02:38:32 - cmdstanpy - INFO - Chain [1] done processing\n"
     ]
    },
    {
     "name": "stdout",
     "output_type": "stream",
     "text": [
      "model saved bangalore\n",
      "prediction file saved bangalore\n",
      "delhi\n",
      "28.6517178 77.2219388\n",
      "2020-11-25 06:30:00 2024-03-09 00:00:00\n",
      "1606266000 1709922600\n",
      "FILE NAME  delhi - ./aqi_apr_29/weekthree/delhi_25_11_20_06_30_00_to_09_03_24_00_00_00.json\n"
     ]
    },
    {
     "name": "stderr",
     "output_type": "stream",
     "text": [
      "02:38:59 - cmdstanpy - INFO - Chain [1] start processing\n"
     ]
    },
    {
     "name": "stdout",
     "output_type": "stream",
     "text": [
      "SAVED IN  ./aqi_apr_29/weekthree/delhi_25_11_20_06_30_00_to_09_03_24_00_00_00_raw.csv\n",
      "RAW DF LENGTH (28434, 10)\n",
      " ------------ DF META --------- \n",
      "delhi\n",
      "DAILY DF LENGTH  (1200, 10)\n",
      "          dt  aqi       co     no     no2      o3     so2   pm2_5    pm10  \\\n",
      "0 2020-11-25  5.0  4539.49  52.75  120.64  104.43  217.44  463.68  541.95   \n",
      "\n",
      "     nh3  \n",
      "0  50.66  \n",
      "             dt  aqi       co     no    no2      o3    so2   pm2_5    pm10  \\\n",
      "1199 2024-03-08  5.0  3097.53  54.09  76.77  170.23  79.15  185.93  245.43   \n",
      "\n",
      "        nh3  \n",
      "1199  40.53  \n",
      "Index(['dt', 'aqi', 'co', 'no', 'no2', 'o3', 'so2', 'pm2_5', 'pm10', 'nh3'], dtype='object')\n",
      "EXTRACTION DONE __ \n",
      "TRAINING AND SERIALIZATION \n"
     ]
    },
    {
     "name": "stderr",
     "output_type": "stream",
     "text": [
      "02:38:59 - cmdstanpy - INFO - Chain [1] done processing\n"
     ]
    },
    {
     "name": "stdout",
     "output_type": "stream",
     "text": [
      "model saved delhi\n",
      "prediction file saved delhi\n",
      "lucknow\n",
      "26.8381 80.9346001\n",
      "2020-11-25 06:30:00 2024-03-09 00:00:00\n",
      "1606266000 1709922600\n",
      "FILE NAME  lucknow - ./aqi_apr_29/weekthree/lucknow_25_11_20_06_30_00_to_09_03_24_00_00_00.json\n"
     ]
    },
    {
     "name": "stderr",
     "output_type": "stream",
     "text": [
      "02:39:27 - cmdstanpy - INFO - Chain [1] start processing\n"
     ]
    },
    {
     "name": "stdout",
     "output_type": "stream",
     "text": [
      "SAVED IN  ./aqi_apr_29/weekthree/lucknow_25_11_20_06_30_00_to_09_03_24_00_00_00_raw.csv\n",
      "RAW DF LENGTH (28434, 10)\n",
      " ------------ DF META --------- \n",
      "lucknow\n",
      "DAILY DF LENGTH  (1200, 10)\n",
      "          dt  aqi       co     no    no2      o3    so2   pm2_5    pm10   nh3\n",
      "0 2020-11-25  5.0  2403.26  12.07  58.26  203.13  26.46  299.76  335.66  60.8\n",
      "             dt  aqi       co    no    no2      o3    so2   pm2_5    pm10  \\\n",
      "1199 2024-03-08  5.0  1001.36  2.74  19.02  175.95  22.89  147.68  170.76   \n",
      "\n",
      "        nh3  \n",
      "1199  21.03  \n",
      "Index(['dt', 'aqi', 'co', 'no', 'no2', 'o3', 'so2', 'pm2_5', 'pm10', 'nh3'], dtype='object')\n",
      "EXTRACTION DONE __ \n",
      "TRAINING AND SERIALIZATION \n"
     ]
    },
    {
     "name": "stderr",
     "output_type": "stream",
     "text": [
      "02:39:27 - cmdstanpy - INFO - Chain [1] done processing\n"
     ]
    },
    {
     "name": "stdout",
     "output_type": "stream",
     "text": [
      "model saved lucknow\n",
      "prediction file saved lucknow\n",
      "chennai\n",
      "13.0836939 80.270186\n",
      "2020-11-25 06:30:00 2024-03-09 00:00:00\n",
      "1606266000 1709922600\n",
      "FILE NAME  chennai - ./aqi_apr_29/weekthree/chennai_25_11_20_06_30_00_to_09_03_24_00_00_00.json\n",
      "SAVED IN  ./aqi_apr_29/weekthree/chennai_25_11_20_06_30_00_to_09_03_24_00_00_00_raw.csv\n",
      "RAW DF LENGTH (28434, 10)\n",
      " ------------ DF META --------- \n",
      "chennai\n",
      "DAILY DF LENGTH  (1200, 10)\n",
      "          dt  aqi      co    no    no2      o3   so2  pm2_5   pm10   nh3\n",
      "0 2020-11-25  4.0  487.33  0.11  15.94  110.15  15.5   34.5  36.41  2.09\n",
      "             dt  aqi     co     no    no2     o3    so2  pm2_5   pm10   nh3\n",
      "1199 2024-03-08  4.0  961.3  12.52  31.53  94.41  38.62  58.91  69.14  8.23\n",
      "Index(['dt', 'aqi', 'co', 'no', 'no2', 'o3', 'so2', 'pm2_5', 'pm10', 'nh3'], dtype='object')\n",
      "EXTRACTION DONE __ \n",
      "TRAINING AND SERIALIZATION \n"
     ]
    },
    {
     "name": "stderr",
     "output_type": "stream",
     "text": [
      "02:39:55 - cmdstanpy - INFO - Chain [1] start processing\n",
      "02:39:55 - cmdstanpy - INFO - Chain [1] done processing\n"
     ]
    },
    {
     "name": "stdout",
     "output_type": "stream",
     "text": [
      "model saved chennai\n",
      "prediction file saved chennai\n",
      "1606266000 1710527400\n",
      "bangalore\n",
      "12.9767936 77.590082\n",
      "2020-11-25 06:30:00 2024-03-16 00:00:00\n",
      "1606266000 1710527400\n",
      "FILE NAME  bangalore - ./aqi_apr_29/weektwo/bangalore_25_11_20_06_30_00_to_16_03_24_00_00_00.json\n",
      "SAVED IN  ./aqi_apr_29/weektwo/bangalore_25_11_20_06_30_00_to_16_03_24_00_00_00_raw.csv\n",
      "RAW DF LENGTH (28602, 10)\n",
      " ------------ DF META --------- \n",
      "bangalore\n",
      "DAILY DF LENGTH  (1207, 10)\n",
      "          dt  aqi      co   no    no2      o3  so2  pm2_5   pm10   nh3\n",
      "0 2020-11-25  5.0  560.76  0.4  15.25  120.16  9.3  80.03  86.66  1.71\n",
      "             dt  aqi       co     no    no2      o3    so2  pm2_5   pm10  \\\n",
      "1206 2024-03-15  4.0  1321.79  16.99  49.35  158.79  16.21  65.96  81.96   \n",
      "\n",
      "        nh3  \n",
      "1206  10.39  \n",
      "Index(['dt', 'aqi', 'co', 'no', 'no2', 'o3', 'so2', 'pm2_5', 'pm10', 'nh3'], dtype='object')\n",
      "EXTRACTION DONE __ \n",
      "TRAINING AND SERIALIZATION \n"
     ]
    },
    {
     "name": "stderr",
     "output_type": "stream",
     "text": [
      "02:40:23 - cmdstanpy - INFO - Chain [1] start processing\n",
      "02:40:23 - cmdstanpy - INFO - Chain [1] done processing\n"
     ]
    },
    {
     "name": "stdout",
     "output_type": "stream",
     "text": [
      "model saved bangalore\n",
      "prediction file saved bangalore\n",
      "delhi\n",
      "28.6517178 77.2219388\n",
      "2020-11-25 06:30:00 2024-03-16 00:00:00\n",
      "1606266000 1710527400\n",
      "FILE NAME  delhi - ./aqi_apr_29/weektwo/delhi_25_11_20_06_30_00_to_16_03_24_00_00_00.json\n"
     ]
    },
    {
     "name": "stderr",
     "output_type": "stream",
     "text": [
      "02:40:50 - cmdstanpy - INFO - Chain [1] start processing\n"
     ]
    },
    {
     "name": "stdout",
     "output_type": "stream",
     "text": [
      "SAVED IN  ./aqi_apr_29/weektwo/delhi_25_11_20_06_30_00_to_16_03_24_00_00_00_raw.csv\n",
      "RAW DF LENGTH (28602, 10)\n",
      " ------------ DF META --------- \n",
      "delhi\n",
      "DAILY DF LENGTH  (1207, 10)\n",
      "          dt  aqi       co     no     no2      o3     so2   pm2_5    pm10  \\\n",
      "0 2020-11-25  5.0  4539.49  52.75  120.64  104.43  217.44  463.68  541.95   \n",
      "\n",
      "     nh3  \n",
      "0  50.66  \n",
      "             dt  aqi       co     no    no2      o3   so2   pm2_5    pm10  \\\n",
      "1206 2024-03-15  5.0  3631.59  38.89  87.74  163.08  65.8  219.44  302.35   \n",
      "\n",
      "        nh3  \n",
      "1206  52.18  \n",
      "Index(['dt', 'aqi', 'co', 'no', 'no2', 'o3', 'so2', 'pm2_5', 'pm10', 'nh3'], dtype='object')\n",
      "EXTRACTION DONE __ \n",
      "TRAINING AND SERIALIZATION \n"
     ]
    },
    {
     "name": "stderr",
     "output_type": "stream",
     "text": [
      "02:40:50 - cmdstanpy - INFO - Chain [1] done processing\n"
     ]
    },
    {
     "name": "stdout",
     "output_type": "stream",
     "text": [
      "model saved delhi\n",
      "prediction file saved delhi\n",
      "lucknow\n",
      "26.8381 80.9346001\n",
      "2020-11-25 06:30:00 2024-03-16 00:00:00\n",
      "1606266000 1710527400\n",
      "FILE NAME  lucknow - ./aqi_apr_29/weektwo/lucknow_25_11_20_06_30_00_to_16_03_24_00_00_00.json\n"
     ]
    },
    {
     "name": "stderr",
     "output_type": "stream",
     "text": [
      "02:41:18 - cmdstanpy - INFO - Chain [1] start processing\n"
     ]
    },
    {
     "name": "stdout",
     "output_type": "stream",
     "text": [
      "SAVED IN  ./aqi_apr_29/weektwo/lucknow_25_11_20_06_30_00_to_16_03_24_00_00_00_raw.csv\n",
      "RAW DF LENGTH (28602, 10)\n",
      " ------------ DF META --------- \n",
      "lucknow\n",
      "DAILY DF LENGTH  (1207, 10)\n",
      "          dt  aqi       co     no    no2      o3    so2   pm2_5    pm10   nh3\n",
      "0 2020-11-25  5.0  2403.26  12.07  58.26  203.13  26.46  299.76  335.66  60.8\n",
      "             dt  aqi       co    no    no2      o3    so2   pm2_5    pm10  \\\n",
      "1206 2024-03-15  5.0  1415.25  4.69  36.33  185.97  46.25  131.43  158.46   \n",
      "\n",
      "        nh3  \n",
      "1206  30.91  \n",
      "Index(['dt', 'aqi', 'co', 'no', 'no2', 'o3', 'so2', 'pm2_5', 'pm10', 'nh3'], dtype='object')\n",
      "EXTRACTION DONE __ \n",
      "TRAINING AND SERIALIZATION \n"
     ]
    },
    {
     "name": "stderr",
     "output_type": "stream",
     "text": [
      "02:41:18 - cmdstanpy - INFO - Chain [1] done processing\n"
     ]
    },
    {
     "name": "stdout",
     "output_type": "stream",
     "text": [
      "model saved lucknow\n",
      "prediction file saved lucknow\n",
      "chennai\n",
      "13.0836939 80.270186\n",
      "2020-11-25 06:30:00 2024-03-16 00:00:00\n",
      "1606266000 1710527400\n",
      "FILE NAME  chennai - ./aqi_apr_29/weektwo/chennai_25_11_20_06_30_00_to_16_03_24_00_00_00.json\n",
      "SAVED IN  ./aqi_apr_29/weektwo/chennai_25_11_20_06_30_00_to_16_03_24_00_00_00_raw.csv\n",
      "RAW DF LENGTH (28602, 10)\n",
      " ------------ DF META --------- \n",
      "chennai\n",
      "DAILY DF LENGTH  (1207, 10)\n",
      "          dt  aqi      co    no    no2      o3   so2  pm2_5   pm10   nh3\n",
      "0 2020-11-25  4.0  487.33  0.11  15.94  110.15  15.5   34.5  36.41  2.09\n",
      "             dt  aqi      co    no   no2     o3    so2  pm2_5   pm10   nh3\n",
      "1206 2024-03-15  4.0  867.84  6.93  32.9  135.9  41.48  63.91  82.19  8.61\n",
      "Index(['dt', 'aqi', 'co', 'no', 'no2', 'o3', 'so2', 'pm2_5', 'pm10', 'nh3'], dtype='object')\n",
      "EXTRACTION DONE __ \n",
      "TRAINING AND SERIALIZATION \n"
     ]
    },
    {
     "name": "stderr",
     "output_type": "stream",
     "text": [
      "02:41:46 - cmdstanpy - INFO - Chain [1] start processing\n",
      "02:41:46 - cmdstanpy - INFO - Chain [1] done processing\n"
     ]
    },
    {
     "name": "stdout",
     "output_type": "stream",
     "text": [
      "model saved chennai\n",
      "prediction file saved chennai\n",
      "1606266000 1711132200\n",
      "bangalore\n",
      "12.9767936 77.590082\n",
      "2020-11-25 06:30:00 2024-03-23 00:00:00\n",
      "1606266000 1711132200\n",
      "FILE NAME  bangalore - ./aqi_apr_29/weekone/bangalore_25_11_20_06_30_00_to_23_03_24_00_00_00.json\n"
     ]
    },
    {
     "name": "stderr",
     "output_type": "stream",
     "text": [
      "02:42:14 - cmdstanpy - INFO - Chain [1] start processing\n"
     ]
    },
    {
     "name": "stdout",
     "output_type": "stream",
     "text": [
      "SAVED IN  ./aqi_apr_29/weekone/bangalore_25_11_20_06_30_00_to_23_03_24_00_00_00_raw.csv\n",
      "RAW DF LENGTH (28770, 10)\n",
      " ------------ DF META --------- \n",
      "bangalore\n",
      "DAILY DF LENGTH  (1214, 10)\n",
      "          dt  aqi      co   no    no2      o3  so2  pm2_5   pm10   nh3\n",
      "0 2020-11-25  5.0  560.76  0.4  15.25  120.16  9.3  80.03  86.66  1.71\n",
      "             dt  aqi      co    no    no2      o3    so2  pm2_5   pm10   nh3\n",
      "1213 2024-03-22  4.0  614.17  4.36  22.28  143.05  14.07  33.98  38.76  4.88\n",
      "Index(['dt', 'aqi', 'co', 'no', 'no2', 'o3', 'so2', 'pm2_5', 'pm10', 'nh3'], dtype='object')\n",
      "EXTRACTION DONE __ \n",
      "TRAINING AND SERIALIZATION \n"
     ]
    },
    {
     "name": "stderr",
     "output_type": "stream",
     "text": [
      "02:42:14 - cmdstanpy - INFO - Chain [1] done processing\n"
     ]
    },
    {
     "name": "stdout",
     "output_type": "stream",
     "text": [
      "model saved bangalore\n",
      "prediction file saved bangalore\n",
      "delhi\n",
      "28.6517178 77.2219388\n",
      "2020-11-25 06:30:00 2024-03-23 00:00:00\n",
      "1606266000 1711132200\n",
      "FILE NAME  delhi - ./aqi_apr_29/weekone/delhi_25_11_20_06_30_00_to_23_03_24_00_00_00.json\n"
     ]
    },
    {
     "name": "stderr",
     "output_type": "stream",
     "text": [
      "02:42:41 - cmdstanpy - INFO - Chain [1] start processing\n",
      "02:42:41 - cmdstanpy - INFO - Chain [1] done processing\n"
     ]
    },
    {
     "name": "stdout",
     "output_type": "stream",
     "text": [
      "SAVED IN  ./aqi_apr_29/weekone/delhi_25_11_20_06_30_00_to_23_03_24_00_00_00_raw.csv\n",
      "RAW DF LENGTH (28770, 10)\n",
      " ------------ DF META --------- \n",
      "delhi\n",
      "DAILY DF LENGTH  (1214, 10)\n",
      "          dt  aqi       co     no     no2      o3     so2   pm2_5    pm10  \\\n",
      "0 2020-11-25  5.0  4539.49  52.75  120.64  104.43  217.44  463.68  541.95   \n",
      "\n",
      "     nh3  \n",
      "0  50.66  \n",
      "             dt  aqi       co     no     no2      o3     so2   pm2_5   pm10  \\\n",
      "1213 2024-03-22  5.0  5714.42  67.95  168.62  188.83  133.51  307.16  422.9   \n",
      "\n",
      "        nh3  \n",
      "1213  66.88  \n",
      "Index(['dt', 'aqi', 'co', 'no', 'no2', 'o3', 'so2', 'pm2_5', 'pm10', 'nh3'], dtype='object')\n",
      "EXTRACTION DONE __ \n",
      "TRAINING AND SERIALIZATION \n",
      "model saved delhi\n",
      "prediction file saved delhi\n",
      "lucknow\n",
      "26.8381 80.9346001\n",
      "2020-11-25 06:30:00 2024-03-23 00:00:00\n",
      "1606266000 1711132200\n",
      "FILE NAME  lucknow - ./aqi_apr_29/weekone/lucknow_25_11_20_06_30_00_to_23_03_24_00_00_00.json\n"
     ]
    },
    {
     "name": "stderr",
     "output_type": "stream",
     "text": [
      "02:43:08 - cmdstanpy - INFO - Chain [1] start processing\n"
     ]
    },
    {
     "name": "stdout",
     "output_type": "stream",
     "text": [
      "SAVED IN  ./aqi_apr_29/weekone/lucknow_25_11_20_06_30_00_to_23_03_24_00_00_00_raw.csv\n",
      "RAW DF LENGTH (28770, 10)\n",
      " ------------ DF META --------- \n",
      "lucknow\n",
      "DAILY DF LENGTH  (1214, 10)\n",
      "          dt  aqi       co     no    no2      o3    so2   pm2_5    pm10   nh3\n",
      "0 2020-11-25  5.0  2403.26  12.07  58.26  203.13  26.46  299.76  335.66  60.8\n",
      "             dt  aqi       co    no    no2      o3    so2  pm2_5    pm10  \\\n",
      "1213 2024-03-22  5.0  1388.55  8.16  29.13  183.11  24.56  128.7  166.63   \n",
      "\n",
      "        nh3  \n",
      "1213  43.57  \n",
      "Index(['dt', 'aqi', 'co', 'no', 'no2', 'o3', 'so2', 'pm2_5', 'pm10', 'nh3'], dtype='object')\n",
      "EXTRACTION DONE __ \n",
      "TRAINING AND SERIALIZATION \n"
     ]
    },
    {
     "name": "stderr",
     "output_type": "stream",
     "text": [
      "02:43:08 - cmdstanpy - INFO - Chain [1] done processing\n"
     ]
    },
    {
     "name": "stdout",
     "output_type": "stream",
     "text": [
      "model saved lucknow\n",
      "prediction file saved lucknow\n",
      "chennai\n",
      "13.0836939 80.270186\n",
      "2020-11-25 06:30:00 2024-03-23 00:00:00\n",
      "1606266000 1711132200\n",
      "FILE NAME  chennai - ./aqi_apr_29/weekone/chennai_25_11_20_06_30_00_to_23_03_24_00_00_00.json\n"
     ]
    },
    {
     "name": "stderr",
     "output_type": "stream",
     "text": [
      "02:43:35 - cmdstanpy - INFO - Chain [1] start processing\n"
     ]
    },
    {
     "name": "stdout",
     "output_type": "stream",
     "text": [
      "SAVED IN  ./aqi_apr_29/weekone/chennai_25_11_20_06_30_00_to_23_03_24_00_00_00_raw.csv\n",
      "RAW DF LENGTH (28770, 10)\n",
      " ------------ DF META --------- \n",
      "chennai\n",
      "DAILY DF LENGTH  (1214, 10)\n",
      "          dt  aqi      co    no    no2      o3   so2  pm2_5   pm10   nh3\n",
      "0 2020-11-25  4.0  487.33  0.11  15.94  110.15  15.5   34.5  36.41  2.09\n",
      "             dt  aqi      co     no    no2     o3    so2  pm2_5   pm10    nh3\n",
      "1213 2024-03-22  5.0  1895.9  47.39  31.87  89.41  38.62  77.39  92.69  17.99\n",
      "Index(['dt', 'aqi', 'co', 'no', 'no2', 'o3', 'so2', 'pm2_5', 'pm10', 'nh3'], dtype='object')\n",
      "EXTRACTION DONE __ \n",
      "TRAINING AND SERIALIZATION \n"
     ]
    },
    {
     "name": "stderr",
     "output_type": "stream",
     "text": [
      "02:43:35 - cmdstanpy - INFO - Chain [1] done processing\n"
     ]
    },
    {
     "name": "stdout",
     "output_type": "stream",
     "text": [
      "model saved chennai\n",
      "prediction file saved chennai\n"
     ]
    }
   ],
   "source": [
    "def run_job():\n",
    "    for k,v in enumerate(time_meta):\n",
    "        s = time_meta[v]['s']\n",
    "        e = time_meta[v]['e']\n",
    "        print(s,e)\n",
    "        BASE = f'aqi_apr_29/{v}'\n",
    "        get_data(meta,s,e,BASE)\n",
    "        \n",
    "run_job()"
   ]
  },
  {
   "cell_type": "code",
   "execution_count": null,
   "metadata": {},
   "outputs": [],
   "source": []
  },
  {
   "cell_type": "markdown",
   "metadata": {},
   "source": [
    "prediction stb with prophet \n",
    "\n",
    "inp csv \n",
    "SCHEMA \n",
    "\n",
    "model json \n",
    "pred csv\n"
   ]
  },
  {
   "cell_type": "code",
   "execution_count": 66,
   "metadata": {},
   "outputs": [],
   "source": [
    "# s = 1705861800\n",
    "# e = 1711305000\n",
    "# lat = 12.9767936\n",
    "# long = 77.590082\n",
    "# key = \"cdde2404b1a47c8b46ba44aae32246c6\"\n",
    "\n",
    "# url = f\"http://api.openweathermap.org/data/2.5/air_pollution/history?lat={lat}&lon={long}&start={s}&end={e}&appid={key}\"\n",
    "\n",
    "# payload = {}\n",
    "# headers = {}\n",
    "\n",
    "# file_name = 'delhi.json'\n",
    "\n",
    "# response = requests.request(\"GET\", url, headers=headers, data=payload)\n",
    "\n",
    "# data = response.json()\n",
    "# # Write the JSON data to a file\n",
    "# with open(file_name, 'w') as json_file:\n",
    "#     json.dump(data, json_file, indent=4)\n",
    "    \n",
    "    \n",
    "json_path = r'C:\\Users\\PETE\\Desktop\\ADMIN\\CAPSTONE\\MODEL\\archive\\AQI_march_1\\bengaluru_22_01_24_00_00_00_to_25_03_24_00_00_00.json'\n",
    "\n",
    "with open(json_path, 'r') as f:\n",
    "    json_data = json.load(f)\n",
    "    # print(data)\n",
    "\n",
    "\n",
    "csv_file_name = json_path.split('.')[0]+'.csv'\n",
    "\n",
    "with open(csv_file_name, mode='w', newline='') as file:\n",
    "# Create a CSV writer\n",
    "    writer = csv.writer(file)\n",
    "    \n",
    "    # Write the header\n",
    "    headers = ['dt', 'aqi', 'co', 'no', 'no2', 'o3', 'so2', 'pm2_5', 'pm10', 'nh3']\n",
    "    writer.writerow(headers)\n",
    "    \n",
    "    # Iterate through each item in the list\n",
    "    for item in json_data[\"list\"]:\n",
    "        # Extract data\n",
    "        dt = datetime.fromtimestamp(item[\"dt\"]).strftime('%Y-%m-%d %H:%M:%S')\n",
    "        \n",
    "        aqi = item[\"main\"][\"aqi\"]\n",
    "        components = item[\"components\"]\n",
    "        \n",
    "        # Write row data\n",
    "        row = [dt, aqi] + [components[key] for key in headers[2:]]  # Dynamically extract component values\n",
    "        writer.writerow(row)\n",
    "\n"
   ]
  },
  {
   "cell_type": "code",
   "execution_count": 86,
   "metadata": {},
   "outputs": [],
   "source": [
    "df = pd.read_csv('./AQI_march_1/bengaluru_22_01_24_00_00_00_to_25_03_24_00_00_00.csv')"
   ]
  },
  {
   "cell_type": "code",
   "execution_count": 87,
   "metadata": {},
   "outputs": [],
   "source": [
    "df['dt'] = pd.to_datetime(df['dt'])\n",
    "# df.set_index('dt',inplace=True)"
   ]
  },
  {
   "cell_type": "code",
   "execution_count": 88,
   "metadata": {},
   "outputs": [
    {
     "data": {
      "text/plain": [
       "<bound method DataFrame.info of                       dt  aqi      co   no    no2      o3   so2  pm2_5   pm10  \\\n",
       "0    2024-01-22 00:30:00    3  433.92  0.0  11.65   61.51  5.07  25.37  30.99   \n",
       "1    2024-01-22 01:30:00    2  413.89  0.0   9.85   59.37  5.30  23.71  29.07   \n",
       "2    2024-01-22 02:30:00    2  403.88  0.0   8.65   57.22  5.30  22.63  27.92   \n",
       "3    2024-01-22 03:30:00    2  407.22  0.0   8.48   54.36  5.42  22.00  27.38   \n",
       "4    2024-01-22 04:30:00    2  417.23  0.0   9.08   50.78  5.66  21.78  27.36   \n",
       "...                  ...  ...     ...  ...    ...     ...   ...    ...    ...   \n",
       "1507 2024-03-24 19:30:00    3  410.56  0.0  11.65  101.57  7.45  23.73  30.77   \n",
       "1508 2024-03-24 20:30:00    3  380.52  0.0   8.74  101.57  6.56  23.79  30.88   \n",
       "1509 2024-03-24 21:30:00    3  360.49  0.0   7.20  104.43  6.26  24.40  31.62   \n",
       "1510 2024-03-24 22:30:00    3  363.83  0.0   7.45  107.29  7.09  27.37  35.44   \n",
       "1511 2024-03-24 23:30:00    3  373.84  0.0   8.05  105.86  7.63  30.05  38.69   \n",
       "\n",
       "       nh3  \n",
       "0     5.13  \n",
       "1     3.77  \n",
       "2     2.69  \n",
       "3     2.12  \n",
       "4     1.95  \n",
       "...    ...  \n",
       "1507  3.26  \n",
       "1508  3.48  \n",
       "1509  3.48  \n",
       "1510  3.74  \n",
       "1511  4.12  \n",
       "\n",
       "[1512 rows x 10 columns]>"
      ]
     },
     "execution_count": 88,
     "metadata": {},
     "output_type": "execute_result"
    }
   ],
   "source": [
    "df.info"
   ]
  },
  {
   "cell_type": "code",
   "execution_count": 90,
   "metadata": {},
   "outputs": [],
   "source": [
    "df = df.resample(rule='D',on='dt').max()"
   ]
  },
  {
   "cell_type": "code",
   "execution_count": 92,
   "metadata": {},
   "outputs": [
    {
     "data": {
      "text/html": [
       "<div>\n",
       "<style scoped>\n",
       "    .dataframe tbody tr th:only-of-type {\n",
       "        vertical-align: middle;\n",
       "    }\n",
       "\n",
       "    .dataframe tbody tr th {\n",
       "        vertical-align: top;\n",
       "    }\n",
       "\n",
       "    .dataframe thead th {\n",
       "        text-align: right;\n",
       "    }\n",
       "</style>\n",
       "<table border=\"1\" class=\"dataframe\">\n",
       "  <thead>\n",
       "    <tr style=\"text-align: right;\">\n",
       "      <th></th>\n",
       "      <th>aqi</th>\n",
       "      <th>co</th>\n",
       "      <th>no</th>\n",
       "      <th>no2</th>\n",
       "      <th>o3</th>\n",
       "      <th>so2</th>\n",
       "      <th>pm2_5</th>\n",
       "      <th>pm10</th>\n",
       "      <th>nh3</th>\n",
       "    </tr>\n",
       "    <tr>\n",
       "      <th>dt</th>\n",
       "      <th></th>\n",
       "      <th></th>\n",
       "      <th></th>\n",
       "      <th></th>\n",
       "      <th></th>\n",
       "      <th></th>\n",
       "      <th></th>\n",
       "      <th></th>\n",
       "      <th></th>\n",
       "    </tr>\n",
       "  </thead>\n",
       "  <tbody>\n",
       "    <tr>\n",
       "      <th>2024-01-22</th>\n",
       "      <td>3</td>\n",
       "      <td>988.01</td>\n",
       "      <td>9.83</td>\n",
       "      <td>51.41</td>\n",
       "      <td>135.90</td>\n",
       "      <td>14.07</td>\n",
       "      <td>39.68</td>\n",
       "      <td>46.05</td>\n",
       "      <td>6.46</td>\n",
       "    </tr>\n",
       "    <tr>\n",
       "      <th>2024-01-23</th>\n",
       "      <td>4</td>\n",
       "      <td>2216.34</td>\n",
       "      <td>23.02</td>\n",
       "      <td>120.64</td>\n",
       "      <td>145.91</td>\n",
       "      <td>21.70</td>\n",
       "      <td>52.63</td>\n",
       "      <td>62.19</td>\n",
       "      <td>9.75</td>\n",
       "    </tr>\n",
       "    <tr>\n",
       "      <th>2024-01-24</th>\n",
       "      <td>5</td>\n",
       "      <td>1815.80</td>\n",
       "      <td>19.67</td>\n",
       "      <td>115.16</td>\n",
       "      <td>147.34</td>\n",
       "      <td>31.95</td>\n",
       "      <td>79.32</td>\n",
       "      <td>90.52</td>\n",
       "      <td>8.61</td>\n",
       "    </tr>\n",
       "    <tr>\n",
       "      <th>2024-01-25</th>\n",
       "      <td>5</td>\n",
       "      <td>1308.44</td>\n",
       "      <td>19.45</td>\n",
       "      <td>54.84</td>\n",
       "      <td>127.32</td>\n",
       "      <td>29.09</td>\n",
       "      <td>105.40</td>\n",
       "      <td>120.82</td>\n",
       "      <td>6.33</td>\n",
       "    </tr>\n",
       "    <tr>\n",
       "      <th>2024-01-26</th>\n",
       "      <td>3</td>\n",
       "      <td>694.27</td>\n",
       "      <td>6.03</td>\n",
       "      <td>28.45</td>\n",
       "      <td>110.15</td>\n",
       "      <td>10.97</td>\n",
       "      <td>23.12</td>\n",
       "      <td>30.63</td>\n",
       "      <td>6.08</td>\n",
       "    </tr>\n",
       "    <tr>\n",
       "      <th>...</th>\n",
       "      <td>...</td>\n",
       "      <td>...</td>\n",
       "      <td>...</td>\n",
       "      <td>...</td>\n",
       "      <td>...</td>\n",
       "      <td>...</td>\n",
       "      <td>...</td>\n",
       "      <td>...</td>\n",
       "      <td>...</td>\n",
       "    </tr>\n",
       "    <tr>\n",
       "      <th>2024-03-20</th>\n",
       "      <td>4</td>\n",
       "      <td>1001.36</td>\n",
       "      <td>5.09</td>\n",
       "      <td>43.87</td>\n",
       "      <td>161.65</td>\n",
       "      <td>26.46</td>\n",
       "      <td>72.07</td>\n",
       "      <td>83.00</td>\n",
       "      <td>8.11</td>\n",
       "    </tr>\n",
       "    <tr>\n",
       "      <th>2024-03-21</th>\n",
       "      <td>5</td>\n",
       "      <td>540.73</td>\n",
       "      <td>2.24</td>\n",
       "      <td>19.19</td>\n",
       "      <td>138.76</td>\n",
       "      <td>25.27</td>\n",
       "      <td>75.77</td>\n",
       "      <td>86.43</td>\n",
       "      <td>3.89</td>\n",
       "    </tr>\n",
       "    <tr>\n",
       "      <th>2024-03-22</th>\n",
       "      <td>4</td>\n",
       "      <td>614.17</td>\n",
       "      <td>4.36</td>\n",
       "      <td>22.28</td>\n",
       "      <td>143.05</td>\n",
       "      <td>14.07</td>\n",
       "      <td>33.98</td>\n",
       "      <td>38.76</td>\n",
       "      <td>4.88</td>\n",
       "    </tr>\n",
       "    <tr>\n",
       "      <th>2024-03-23</th>\n",
       "      <td>4</td>\n",
       "      <td>527.38</td>\n",
       "      <td>4.19</td>\n",
       "      <td>23.31</td>\n",
       "      <td>160.22</td>\n",
       "      <td>13.35</td>\n",
       "      <td>39.06</td>\n",
       "      <td>46.32</td>\n",
       "      <td>5.89</td>\n",
       "    </tr>\n",
       "    <tr>\n",
       "      <th>2024-03-24</th>\n",
       "      <td>4</td>\n",
       "      <td>514.03</td>\n",
       "      <td>3.02</td>\n",
       "      <td>16.79</td>\n",
       "      <td>168.80</td>\n",
       "      <td>12.64</td>\n",
       "      <td>34.18</td>\n",
       "      <td>42.88</td>\n",
       "      <td>10.01</td>\n",
       "    </tr>\n",
       "  </tbody>\n",
       "</table>\n",
       "<p>63 rows × 9 columns</p>\n",
       "</div>"
      ],
      "text/plain": [
       "            aqi       co     no     no2      o3    so2   pm2_5    pm10    nh3\n",
       "dt                                                                           \n",
       "2024-01-22    3   988.01   9.83   51.41  135.90  14.07   39.68   46.05   6.46\n",
       "2024-01-23    4  2216.34  23.02  120.64  145.91  21.70   52.63   62.19   9.75\n",
       "2024-01-24    5  1815.80  19.67  115.16  147.34  31.95   79.32   90.52   8.61\n",
       "2024-01-25    5  1308.44  19.45   54.84  127.32  29.09  105.40  120.82   6.33\n",
       "2024-01-26    3   694.27   6.03   28.45  110.15  10.97   23.12   30.63   6.08\n",
       "...         ...      ...    ...     ...     ...    ...     ...     ...    ...\n",
       "2024-03-20    4  1001.36   5.09   43.87  161.65  26.46   72.07   83.00   8.11\n",
       "2024-03-21    5   540.73   2.24   19.19  138.76  25.27   75.77   86.43   3.89\n",
       "2024-03-22    4   614.17   4.36   22.28  143.05  14.07   33.98   38.76   4.88\n",
       "2024-03-23    4   527.38   4.19   23.31  160.22  13.35   39.06   46.32   5.89\n",
       "2024-03-24    4   514.03   3.02   16.79  168.80  12.64   34.18   42.88  10.01\n",
       "\n",
       "[63 rows x 9 columns]"
      ]
     },
     "execution_count": 92,
     "metadata": {},
     "output_type": "execute_result"
    }
   ],
   "source": [
    "df"
   ]
  },
  {
   "cell_type": "code",
   "execution_count": 56,
   "metadata": {},
   "outputs": [],
   "source": [
    "path = list(os.walk('./AQI_march_1'))"
   ]
  },
  {
   "cell_type": "code",
   "execution_count": 59,
   "metadata": {},
   "outputs": [
    {
     "data": {
      "text/plain": [
       "[('./AQI_march_1',\n",
       "  [],\n",
       "  ['bengaluru.json',\n",
       "   'bengaluru_22_01_24_00_00_00_to_25_03_24_00_00_00.json',\n",
       "   'delhi.json',\n",
       "   'delhi_22_01_24_00_00_00_to_25_03_24_00_00_00.json',\n",
       "   'lucknow.json',\n",
       "   'lucknow_22_01_24_00_00_00_to_25_03_24_00_00_00.json'])]"
      ]
     },
     "execution_count": 59,
     "metadata": {},
     "output_type": "execute_result"
    }
   ],
   "source": [
    "path"
   ]
  },
  {
   "cell_type": "code",
   "execution_count": 61,
   "metadata": {},
   "outputs": [],
   "source": [
    "path = path[0][2]"
   ]
  },
  {
   "cell_type": "code",
   "execution_count": 62,
   "metadata": {},
   "outputs": [
    {
     "data": {
      "text/plain": [
       "'bengaluru'"
      ]
     },
     "execution_count": 62,
     "metadata": {},
     "output_type": "execute_result"
    }
   ],
   "source": [
    "path[0].split('.')[0]"
   ]
  },
  {
   "cell_type": "code",
   "execution_count": 14,
   "metadata": {},
   "outputs": [],
   "source": [
    "for i in path:\n",
    "    json_path = os.path.join(os.getcwd(),'AQI',i)\n",
    "    \n",
    "    with open(json_path, 'r') as f:\n",
    "        json_data = json.load(f)\n",
    "        # print(data)\n",
    "\n",
    "    \n",
    "    csv_file_name = i.split('.')[0]+'.csv'\n",
    "    \n",
    "    with open(csv_file_name, mode='w', newline='') as file:\n",
    "    # Create a CSV writer\n",
    "        writer = csv.writer(file)\n",
    "        \n",
    "        # Write the header\n",
    "        headers = ['dt', 'aqi', 'co', 'no', 'no2', 'o3', 'so2', 'pm2_5', 'pm10', 'nh3']\n",
    "        writer.writerow(headers)\n",
    "        \n",
    "        # Iterate through each item in the list\n",
    "        for item in json_data[\"list\"]:\n",
    "            # Extract data\n",
    "            dt = datetime.fromtimestamp(item[\"dt\"]).strftime('%Y-%m-%d %H:%M:%S')\n",
    "            \n",
    "            aqi = item[\"main\"][\"aqi\"]\n",
    "            components = item[\"components\"]\n",
    "            \n",
    "            # Write row data\n",
    "            row = [dt, aqi] + [components[key] for key in headers[2:]]  # Dynamically extract component values\n",
    "            writer.writerow(row)\n"
   ]
  },
  {
   "cell_type": "code",
   "execution_count": 15,
   "metadata": {},
   "outputs": [],
   "source": [
    "df = pd.read_csv(\n",
    "    './aqi_bangalore.csv'\n",
    ")"
   ]
  },
  {
   "cell_type": "code",
   "execution_count": 20,
   "metadata": {},
   "outputs": [],
   "source": [
    "df['dt'] = pd.to_datetime(df['dt'])\n"
   ]
  },
  {
   "cell_type": "code",
   "execution_count": 21,
   "metadata": {},
   "outputs": [
    {
     "data": {
      "text/plain": [
       "dt       datetime64[ns]\n",
       "aqi               int64\n",
       "co              float64\n",
       "no              float64\n",
       "no2             float64\n",
       "o3              float64\n",
       "so2             float64\n",
       "pm2_5           float64\n",
       "pm10            float64\n",
       "nh3             float64\n",
       "dtype: object"
      ]
     },
     "execution_count": 21,
     "metadata": {},
     "output_type": "execute_result"
    }
   ],
   "source": [
    "df.dtypes"
   ]
  },
  {
   "cell_type": "code",
   "execution_count": 22,
   "metadata": {},
   "outputs": [
    {
     "data": {
      "text/html": [
       "<div>\n",
       "<style scoped>\n",
       "    .dataframe tbody tr th:only-of-type {\n",
       "        vertical-align: middle;\n",
       "    }\n",
       "\n",
       "    .dataframe tbody tr th {\n",
       "        vertical-align: top;\n",
       "    }\n",
       "\n",
       "    .dataframe thead th {\n",
       "        text-align: right;\n",
       "    }\n",
       "</style>\n",
       "<table border=\"1\" class=\"dataframe\">\n",
       "  <thead>\n",
       "    <tr style=\"text-align: right;\">\n",
       "      <th></th>\n",
       "      <th>dt</th>\n",
       "      <th>aqi</th>\n",
       "      <th>co</th>\n",
       "      <th>no</th>\n",
       "      <th>no2</th>\n",
       "      <th>o3</th>\n",
       "      <th>so2</th>\n",
       "      <th>pm2_5</th>\n",
       "      <th>pm10</th>\n",
       "      <th>nh3</th>\n",
       "    </tr>\n",
       "  </thead>\n",
       "  <tbody>\n",
       "    <tr>\n",
       "      <th>0</th>\n",
       "      <td>2020-11-25 06:30:00</td>\n",
       "      <td>5</td>\n",
       "      <td>480.65</td>\n",
       "      <td>0.00</td>\n",
       "      <td>6.94</td>\n",
       "      <td>115.87</td>\n",
       "      <td>6.56</td>\n",
       "      <td>80.03</td>\n",
       "      <td>86.66</td>\n",
       "      <td>0.31</td>\n",
       "    </tr>\n",
       "    <tr>\n",
       "      <th>1</th>\n",
       "      <td>2020-11-25 07:30:00</td>\n",
       "      <td>5</td>\n",
       "      <td>547.41</td>\n",
       "      <td>0.00</td>\n",
       "      <td>12.00</td>\n",
       "      <td>120.16</td>\n",
       "      <td>7.99</td>\n",
       "      <td>74.15</td>\n",
       "      <td>80.81</td>\n",
       "      <td>0.31</td>\n",
       "    </tr>\n",
       "    <tr>\n",
       "      <th>2</th>\n",
       "      <td>2020-11-25 08:30:00</td>\n",
       "      <td>5</td>\n",
       "      <td>560.76</td>\n",
       "      <td>0.02</td>\n",
       "      <td>15.08</td>\n",
       "      <td>117.30</td>\n",
       "      <td>9.30</td>\n",
       "      <td>55.30</td>\n",
       "      <td>61.06</td>\n",
       "      <td>0.60</td>\n",
       "    </tr>\n",
       "    <tr>\n",
       "      <th>3</th>\n",
       "      <td>2020-11-25 09:30:00</td>\n",
       "      <td>4</td>\n",
       "      <td>447.27</td>\n",
       "      <td>0.10</td>\n",
       "      <td>11.31</td>\n",
       "      <td>113.01</td>\n",
       "      <td>8.23</td>\n",
       "      <td>32.56</td>\n",
       "      <td>36.40</td>\n",
       "      <td>0.71</td>\n",
       "    </tr>\n",
       "    <tr>\n",
       "      <th>4</th>\n",
       "      <td>2020-11-25 10:30:00</td>\n",
       "      <td>3</td>\n",
       "      <td>380.52</td>\n",
       "      <td>0.21</td>\n",
       "      <td>8.91</td>\n",
       "      <td>103.00</td>\n",
       "      <td>7.39</td>\n",
       "      <td>22.34</td>\n",
       "      <td>25.49</td>\n",
       "      <td>0.93</td>\n",
       "    </tr>\n",
       "  </tbody>\n",
       "</table>\n",
       "</div>"
      ],
      "text/plain": [
       "                   dt  aqi      co    no    no2      o3   so2  pm2_5   pm10  \\\n",
       "0 2020-11-25 06:30:00    5  480.65  0.00   6.94  115.87  6.56  80.03  86.66   \n",
       "1 2020-11-25 07:30:00    5  547.41  0.00  12.00  120.16  7.99  74.15  80.81   \n",
       "2 2020-11-25 08:30:00    5  560.76  0.02  15.08  117.30  9.30  55.30  61.06   \n",
       "3 2020-11-25 09:30:00    4  447.27  0.10  11.31  113.01  8.23  32.56  36.40   \n",
       "4 2020-11-25 10:30:00    3  380.52  0.21   8.91  103.00  7.39  22.34  25.49   \n",
       "\n",
       "    nh3  \n",
       "0  0.31  \n",
       "1  0.31  \n",
       "2  0.60  \n",
       "3  0.71  \n",
       "4  0.93  "
      ]
     },
     "execution_count": 22,
     "metadata": {},
     "output_type": "execute_result"
    }
   ],
   "source": [
    "df.head()"
   ]
  },
  {
   "cell_type": "code",
   "execution_count": null,
   "metadata": {},
   "outputs": [],
   "source": []
  }
 ],
 "metadata": {
  "kernelspec": {
   "display_name": "Python 3",
   "language": "python",
   "name": "python3"
  },
  "language_info": {
   "codemirror_mode": {
    "name": "ipython",
    "version": 3
   },
   "file_extension": ".py",
   "mimetype": "text/x-python",
   "name": "python",
   "nbconvert_exporter": "python",
   "pygments_lexer": "ipython3",
   "version": "3.12.1"
  }
 },
 "nbformat": 4,
 "nbformat_minor": 2
}
