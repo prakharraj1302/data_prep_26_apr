{
 "cells": [
  {
   "cell_type": "code",
   "execution_count": 35,
   "metadata": {},
   "outputs": [],
   "source": [
    "# import pandas as pd\n",
    "import pandas as pd\n",
    "import numpy as np\n",
    "from statsmodels.tsa.seasonal import seasonal_decompose\n",
    "from statsmodels.tsa.statespace.sarimax import SARIMAX\n",
    "import matplotlib.pyplot as plt\n",
    "import os\n"
   ]
  },
  {
   "cell_type": "code",
   "execution_count": 85,
   "metadata": {},
   "outputs": [],
   "source": [
    "d = pd.read_csv(r'C:\\Users\\PETE\\Desktop\\ADMIN\\CAPSTONE\\MODEL\\archive\\Temperature_And_Precipitation_Cities_IN\\Bangalore_1990_2022_BangaloreCity.csv')"
   ]
  },
  {
   "cell_type": "code",
   "execution_count": 86,
   "metadata": {},
   "outputs": [
    {
     "data": {
      "text/plain": [
       "629"
      ]
     },
     "execution_count": 86,
     "metadata": {},
     "output_type": "execute_result"
    }
   ],
   "source": [
    "sum(d['tmax'].isna())"
   ]
  },
  {
   "cell_type": "code",
   "execution_count": 87,
   "metadata": {},
   "outputs": [
    {
     "name": "stderr",
     "output_type": "stream",
     "text": [
      "C:\\Users\\PETE\\AppData\\Local\\Temp\\ipykernel_22472\\3807367862.py:1: UserWarning: Parsing dates in DD/MM/YYYY format when dayfirst=False (the default) was specified. This may lead to inconsistently parsed dates! Specify a format to ensure consistent parsing.\n",
      "  d['time'] = pd.to_datetime(d['time'],errors='raise')\n"
     ]
    }
   ],
   "source": [
    "d['time'] = pd.to_datetime(d['time'],errors='raise')"
   ]
  },
  {
   "cell_type": "code",
   "execution_count": null,
   "metadata": {},
   "outputs": [],
   "source": []
  },
  {
   "cell_type": "code",
   "execution_count": 88,
   "metadata": {},
   "outputs": [
    {
     "data": {
      "text/html": [
       "<div>\n",
       "<style scoped>\n",
       "    .dataframe tbody tr th:only-of-type {\n",
       "        vertical-align: middle;\n",
       "    }\n",
       "\n",
       "    .dataframe tbody tr th {\n",
       "        vertical-align: top;\n",
       "    }\n",
       "\n",
       "    .dataframe thead th {\n",
       "        text-align: right;\n",
       "    }\n",
       "</style>\n",
       "<table border=\"1\" class=\"dataframe\">\n",
       "  <thead>\n",
       "    <tr style=\"text-align: right;\">\n",
       "      <th></th>\n",
       "      <th>time</th>\n",
       "      <th>tavg</th>\n",
       "      <th>tmin</th>\n",
       "      <th>tmax</th>\n",
       "      <th>prcp</th>\n",
       "    </tr>\n",
       "  </thead>\n",
       "  <tbody>\n",
       "    <tr>\n",
       "      <th>0</th>\n",
       "      <td>1990-01-01</td>\n",
       "      <td>22.9</td>\n",
       "      <td>19.1</td>\n",
       "      <td>28.4</td>\n",
       "      <td>NaN</td>\n",
       "    </tr>\n",
       "    <tr>\n",
       "      <th>1</th>\n",
       "      <td>1990-02-01</td>\n",
       "      <td>21.7</td>\n",
       "      <td>NaN</td>\n",
       "      <td>26.5</td>\n",
       "      <td>0.0</td>\n",
       "    </tr>\n",
       "    <tr>\n",
       "      <th>2</th>\n",
       "      <td>1990-03-01</td>\n",
       "      <td>21.0</td>\n",
       "      <td>16.4</td>\n",
       "      <td>26.5</td>\n",
       "      <td>0.0</td>\n",
       "    </tr>\n",
       "    <tr>\n",
       "      <th>3</th>\n",
       "      <td>1990-04-01</td>\n",
       "      <td>20.8</td>\n",
       "      <td>NaN</td>\n",
       "      <td>27.4</td>\n",
       "      <td>0.0</td>\n",
       "    </tr>\n",
       "    <tr>\n",
       "      <th>4</th>\n",
       "      <td>1990-05-01</td>\n",
       "      <td>20.4</td>\n",
       "      <td>14.2</td>\n",
       "      <td>26.1</td>\n",
       "      <td>0.0</td>\n",
       "    </tr>\n",
       "    <tr>\n",
       "      <th>...</th>\n",
       "      <td>...</td>\n",
       "      <td>...</td>\n",
       "      <td>...</td>\n",
       "      <td>...</td>\n",
       "      <td>...</td>\n",
       "    </tr>\n",
       "    <tr>\n",
       "      <th>11889</th>\n",
       "      <td>2022-07-21</td>\n",
       "      <td>23.7</td>\n",
       "      <td>20.5</td>\n",
       "      <td>30.8</td>\n",
       "      <td>82.5</td>\n",
       "    </tr>\n",
       "    <tr>\n",
       "      <th>11890</th>\n",
       "      <td>2022-07-22</td>\n",
       "      <td>23.2</td>\n",
       "      <td>21.1</td>\n",
       "      <td>27.9</td>\n",
       "      <td>0.0</td>\n",
       "    </tr>\n",
       "    <tr>\n",
       "      <th>11891</th>\n",
       "      <td>2022-07-23</td>\n",
       "      <td>23.1</td>\n",
       "      <td>20.9</td>\n",
       "      <td>26.7</td>\n",
       "      <td>0.0</td>\n",
       "    </tr>\n",
       "    <tr>\n",
       "      <th>11892</th>\n",
       "      <td>2022-07-24</td>\n",
       "      <td>22.8</td>\n",
       "      <td>20.0</td>\n",
       "      <td>26.7</td>\n",
       "      <td>0.3</td>\n",
       "    </tr>\n",
       "    <tr>\n",
       "      <th>11893</th>\n",
       "      <td>2022-07-25</td>\n",
       "      <td>24.1</td>\n",
       "      <td>20.2</td>\n",
       "      <td>28.5</td>\n",
       "      <td>0.5</td>\n",
       "    </tr>\n",
       "  </tbody>\n",
       "</table>\n",
       "<p>11894 rows × 5 columns</p>\n",
       "</div>"
      ],
      "text/plain": [
       "            time  tavg  tmin  tmax  prcp\n",
       "0     1990-01-01  22.9  19.1  28.4   NaN\n",
       "1     1990-02-01  21.7   NaN  26.5   0.0\n",
       "2     1990-03-01  21.0  16.4  26.5   0.0\n",
       "3     1990-04-01  20.8   NaN  27.4   0.0\n",
       "4     1990-05-01  20.4  14.2  26.1   0.0\n",
       "...          ...   ...   ...   ...   ...\n",
       "11889 2022-07-21  23.7  20.5  30.8  82.5\n",
       "11890 2022-07-22  23.2  21.1  27.9   0.0\n",
       "11891 2022-07-23  23.1  20.9  26.7   0.0\n",
       "11892 2022-07-24  22.8  20.0  26.7   0.3\n",
       "11893 2022-07-25  24.1  20.2  28.5   0.5\n",
       "\n",
       "[11894 rows x 5 columns]"
      ]
     },
     "execution_count": 88,
     "metadata": {},
     "output_type": "execute_result"
    }
   ],
   "source": [
    "d"
   ]
  },
  {
   "cell_type": "code",
   "execution_count": 89,
   "metadata": {},
   "outputs": [],
   "source": [
    "d.set_index('time', inplace=True)\n"
   ]
  },
  {
   "cell_type": "code",
   "execution_count": 79,
   "metadata": {},
   "outputs": [],
   "source": [
    "def fill_missing_with_decomposition(df, col):\n",
    "    # Interpolate missing values\n",
    "    df_interpolated = df[col].interpolate(method='linear')\n",
    "    \n",
    "    # Apply seasonal decomposition\n",
    "    decomposition = seasonal_decompose(df_interpolated, model='additive', period=365)\n",
    "    seasonal = decomposition.seasonal\n",
    "    trend = decomposition.trend\n",
    "    residual = decomposition.resid\n",
    "\n",
    "    # Some values in trend and residual can still be NaN, especially at the boundaries\n",
    "    trend.interpolate(inplace=True)  # Interpolating the trend to handle NaNs at the boundaries\n",
    "    residual.fillna(residual.mean(), inplace=True)  # Filling residuals' NaNs with their mean\n",
    "\n",
    "    # Reconstruct the series with imputed values\n",
    "    df[f'{col}_imputed'] = trend + seasonal + residual\n",
    "\n",
    "\n",
    "# Assuming continuous blocks of missing data might be long and SARIMA is needed\n",
    "def sarima_forecast_imputation(df,col):\n",
    "    # Fill missing values with NaN placeholder for SARIMA to recognize as missing\n",
    "    df[col].fillna(np.nan, inplace=True)\n",
    "    \n",
    "    # Fit SARIMA model\n",
    "    # Note: The order and seasonal_order parameters might need to be adjusted based on your data\n",
    "    model = SARIMAX(df[col], order=(1, 1, 1), seasonal_order=(1, 1, 1, 12), \n",
    "                    enforce_stationarity=False, enforce_invertibility=False)\n",
    "    results = model.fit()\n",
    "    \n",
    "    # Forecast the missing values\n",
    "    forecast = results.predict(start=df.index[0], end=df.index[-1], dynamic=True)\n",
    "    \n",
    "    # Impute missing values with forecasted values\n",
    "    df[f'{col}_imputed_sarima'] = df[col].fillna(forecast)\n",
    "\n",
    "def interpolate_and_sarima(df, col_name):\n",
    "    # Ensure the column is float for np.nan compatibility\n",
    "    df[col_name] = df[col_name].astype(float)\n",
    "\n",
    "    # Interpolate to fill small gaps directly\n",
    "    df_interpolated = df.copy()\n",
    "    df_interpolated[col_name] = df[col_name].interpolate(method='time')\n",
    "\n",
    "    # Placeholder for imputed series, starting with interpolated values\n",
    "    df_imputed = df_interpolated.copy()\n",
    "\n",
    "    # Identify continuous NaN blocks\n",
    "    missing = df[col_name].isna()\n",
    "    blocks = missing.ne(missing.shift()).cumsum()[missing]\n",
    "\n",
    "    for block in blocks.unique():\n",
    "        start, end = blocks.index[blocks == block][[0, -1]]\n",
    "        gap_size = (end - start).days\n",
    "\n",
    "        # Decide to use SARIMA based on the gap size (e.g., use SARIMA for gaps larger than a threshold)\n",
    "        if gap_size > 30:  # Example threshold: 30 days\n",
    "            # Define the SARIMA modeling window\n",
    "            window_start = df.index.get_loc(start) - 15  # 15 days before the gap\n",
    "            window_end = df.index.get_loc(end) + 15  # 15 days after the gap\n",
    "\n",
    "            # Ensure window limits are within bounds\n",
    "            window_start = max(0, window_start)\n",
    "            window_end = min(len(df) - 1, window_end)\n",
    "\n",
    "            # Select the series around the gap for modeling\n",
    "            train_series = df_imputed[col_name].iloc[window_start:window_end]\n",
    "\n",
    "            # Fit SARIMA\n",
    "            model = SARIMAX(train_series, order=(1, 1, 1), seasonal_order=(1, 1, 1, 12),\n",
    "                            enforce_stationarity=False, enforce_invertibility=False)\n",
    "            model_fit = model.fit(disp=False)\n",
    "            \n",
    "            # Forecast the gap\n",
    "            forecast_start = df.index.get_loc(start)\n",
    "            forecast_end = df.index.get_loc(end)\n",
    "            forecast = model_fit.predict(start=forecast_start, end=forecast_end)\n",
    "            \n",
    "            # Impute the forecasted values\n",
    "            df_imputed[col_name].iloc[forecast_start:forecast_end+1] = forecast\n",
    "\n",
    "    return df_imputed\n",
    "\n"
   ]
  },
  {
   "cell_type": "code",
   "execution_count": 90,
   "metadata": {},
   "outputs": [],
   "source": [
    "def valid_sarima(train_series, order, seasonal_order):\n",
    "    try:\n",
    "        model = SARIMAX(train_series, order=order, seasonal_order=seasonal_order,\n",
    "                        enforce_stationarity=False, enforce_invertibility=False)\n",
    "        model_fit = model.fit(disp=False)\n",
    "        # Check if the model has converged\n",
    "        if not model_fit.mle_retvals['converged']:\n",
    "            raise ValueError(\"SARIMA model failed to converge\")\n",
    "        # Check for extreme values in the fitted parameters\n",
    "        if np.any(np.abs(model_fit.params) > 1e5):\n",
    "            raise ValueError(\"SARIMA model has extreme parameter values\")\n",
    "        return model_fit\n",
    "    except Exception as e:\n",
    "        print(f\"SARIMA model validation error: {e}\")\n",
    "        return None\n",
    "\n",
    "# Function to robustly impute the data\n",
    "def robust_interpolate_and_sarima(df, col_name):\n",
    "    # Define bounds for temperature data\n",
    "    lower_bound, upper_bound = -100, 60\n",
    "    \n",
    "    # Start with interpolation for small gaps\n",
    "    df_interpolated = df.copy()\n",
    "    df_interpolated[col_name] = df[col_name].interpolate(method='linear')\n",
    "    \n",
    "    # Identify remaining missing values\n",
    "    missing = df_interpolated[col_name].isnull()\n",
    "    missing_blocks = missing.ne(missing.shift()).cumsum()[missing]\n",
    "\n",
    "    # Impute large gaps with SARIMA\n",
    "    for block in missing_blocks.unique():\n",
    "        start, end = missing_blocks.index[missing_blocks == block][[0, -1]]\n",
    "        gap_size = (end - start).days\n",
    "        \n",
    "        if gap_size > 30:  # Use SARIMA for large gaps\n",
    "            window_start = start - pd.Timedelta(days=30)\n",
    "            window_end = end + pd.Timedelta(days=30)\n",
    "            window_start, window_end = max(df.index[0], window_start), min(df.index[-1], window_end)\n",
    "            train_series = df_interpolated[col_name][window_start:window_end]\n",
    "\n",
    "            # Validate SARIMA model before applying\n",
    "            model_fit = valid_sarima(train_series, order=(1, 1, 1), seasonal_order=(1, 1, 1, 12))\n",
    "            if model_fit:\n",
    "                forecast = model_fit.predict(start=start, end=end)\n",
    "                df_interpolated[col_name][start:end] = forecast\n",
    "            else:\n",
    "                print(f\"Skipping SARIMA imputation for block starting at {start} due to validation failure.\")\n",
    "    \n",
    "    # Post-imputation sanity check to ensure values are within plausible bounds\n",
    "    df_interpolated[col_name] = np.clip(df_interpolated[col_name], lower_bound, upper_bound)\n",
    "    \n",
    "    return df_interpolated\n",
    "\n"
   ]
  },
  {
   "cell_type": "code",
   "execution_count": 91,
   "metadata": {},
   "outputs": [],
   "source": [
    "\n",
    "# Assume 'df' is your DataFrame with a datetime index and 'temperature' is the column with missing values\n",
    "df_imputed = robust_interpolate_and_sarima(d, 'tmax')\n"
   ]
  },
  {
   "cell_type": "code",
   "execution_count": 94,
   "metadata": {},
   "outputs": [
    {
     "data": {
      "text/plain": [
       "0"
      ]
     },
     "execution_count": 94,
     "metadata": {},
     "output_type": "execute_result"
    }
   ],
   "source": [
    "df_imputed['tmax'].isna().sum()"
   ]
  },
  {
   "cell_type": "code",
   "execution_count": 96,
   "metadata": {},
   "outputs": [
    {
     "data": {
      "text/plain": [
       "(0, 4)"
      ]
     },
     "execution_count": 96,
     "metadata": {},
     "output_type": "execute_result"
    }
   ],
   "source": [
    "df_imputed[df_imputed['tmax'] <= 0].shape"
   ]
  },
  {
   "cell_type": "code",
   "execution_count": 80,
   "metadata": {},
   "outputs": [
    {
     "name": "stderr",
     "output_type": "stream",
     "text": [
      "c:\\Users\\PETE\\AppData\\Local\\Programs\\Python\\Python311\\Lib\\site-packages\\statsmodels\\tsa\\base\\tsa_model.py:471: ValueWarning: A date index has been provided, but it has no associated frequency information and so will be ignored when e.g. forecasting.\n",
      "  self._init_dates(dates, freq)\n",
      "c:\\Users\\PETE\\AppData\\Local\\Programs\\Python\\Python311\\Lib\\site-packages\\statsmodels\\tsa\\base\\tsa_model.py:471: ValueWarning: A date index has been provided, but it is not monotonic and so will be ignored when e.g. forecasting.\n",
      "  self._init_dates(dates, freq)\n",
      "c:\\Users\\PETE\\AppData\\Local\\Programs\\Python\\Python311\\Lib\\site-packages\\statsmodels\\tsa\\base\\tsa_model.py:471: ValueWarning: A date index has been provided, but it has no associated frequency information and so will be ignored when e.g. forecasting.\n",
      "  self._init_dates(dates, freq)\n",
      "c:\\Users\\PETE\\AppData\\Local\\Programs\\Python\\Python311\\Lib\\site-packages\\statsmodels\\tsa\\base\\tsa_model.py:471: ValueWarning: A date index has been provided, but it is not monotonic and so will be ignored when e.g. forecasting.\n",
      "  self._init_dates(dates, freq)\n",
      "c:\\Users\\PETE\\AppData\\Local\\Programs\\Python\\Python311\\Lib\\site-packages\\statsmodels\\tsa\\statespace\\sarimax.py:866: UserWarning: Too few observations to estimate starting parameters for seasonal ARMA. All parameters except for variances will be set to zeros.\n",
      "  warn('Too few observations to estimate starting parameters%s.'\n",
      "c:\\Users\\PETE\\AppData\\Local\\Programs\\Python\\Python311\\Lib\\site-packages\\statsmodels\\tsa\\base\\tsa_model.py:834: ValueWarning: No supported index is available. Prediction results will be given with an integer index beginning at `start`.\n",
      "  return get_prediction_index(\n",
      "c:\\Users\\PETE\\AppData\\Local\\Programs\\Python\\Python311\\Lib\\site-packages\\statsmodels\\tsa\\base\\tsa_model.py:471: ValueWarning: A date index has been provided, but it has no associated frequency information and so will be ignored when e.g. forecasting.\n",
      "  self._init_dates(dates, freq)\n",
      "c:\\Users\\PETE\\AppData\\Local\\Programs\\Python\\Python311\\Lib\\site-packages\\statsmodels\\tsa\\base\\tsa_model.py:471: ValueWarning: A date index has been provided, but it is not monotonic and so will be ignored when e.g. forecasting.\n",
      "  self._init_dates(dates, freq)\n",
      "c:\\Users\\PETE\\AppData\\Local\\Programs\\Python\\Python311\\Lib\\site-packages\\statsmodels\\tsa\\base\\tsa_model.py:471: ValueWarning: A date index has been provided, but it has no associated frequency information and so will be ignored when e.g. forecasting.\n",
      "  self._init_dates(dates, freq)\n",
      "c:\\Users\\PETE\\AppData\\Local\\Programs\\Python\\Python311\\Lib\\site-packages\\statsmodels\\tsa\\base\\tsa_model.py:471: ValueWarning: A date index has been provided, but it is not monotonic and so will be ignored when e.g. forecasting.\n",
      "  self._init_dates(dates, freq)\n",
      "c:\\Users\\PETE\\AppData\\Local\\Programs\\Python\\Python311\\Lib\\site-packages\\statsmodels\\tsa\\statespace\\sarimax.py:866: UserWarning: Too few observations to estimate starting parameters for seasonal ARMA. All parameters except for variances will be set to zeros.\n",
      "  warn('Too few observations to estimate starting parameters%s.'\n",
      "c:\\Users\\PETE\\AppData\\Local\\Programs\\Python\\Python311\\Lib\\site-packages\\statsmodels\\tsa\\base\\tsa_model.py:834: ValueWarning: No supported index is available. Prediction results will be given with an integer index beginning at `start`.\n",
      "  return get_prediction_index(\n",
      "c:\\Users\\PETE\\AppData\\Local\\Programs\\Python\\Python311\\Lib\\site-packages\\statsmodels\\tsa\\base\\tsa_model.py:471: ValueWarning: A date index has been provided, but it has no associated frequency information and so will be ignored when e.g. forecasting.\n",
      "  self._init_dates(dates, freq)\n",
      "c:\\Users\\PETE\\AppData\\Local\\Programs\\Python\\Python311\\Lib\\site-packages\\statsmodels\\tsa\\base\\tsa_model.py:471: ValueWarning: A date index has been provided, but it is not monotonic and so will be ignored when e.g. forecasting.\n",
      "  self._init_dates(dates, freq)\n",
      "c:\\Users\\PETE\\AppData\\Local\\Programs\\Python\\Python311\\Lib\\site-packages\\statsmodels\\tsa\\base\\tsa_model.py:471: ValueWarning: A date index has been provided, but it has no associated frequency information and so will be ignored when e.g. forecasting.\n",
      "  self._init_dates(dates, freq)\n",
      "c:\\Users\\PETE\\AppData\\Local\\Programs\\Python\\Python311\\Lib\\site-packages\\statsmodels\\tsa\\base\\tsa_model.py:471: ValueWarning: A date index has been provided, but it is not monotonic and so will be ignored when e.g. forecasting.\n",
      "  self._init_dates(dates, freq)\n",
      "c:\\Users\\PETE\\AppData\\Local\\Programs\\Python\\Python311\\Lib\\site-packages\\statsmodels\\tsa\\statespace\\sarimax.py:866: UserWarning: Too few observations to estimate starting parameters for seasonal ARMA. All parameters except for variances will be set to zeros.\n",
      "  warn('Too few observations to estimate starting parameters%s.'\n",
      "c:\\Users\\PETE\\AppData\\Local\\Programs\\Python\\Python311\\Lib\\site-packages\\statsmodels\\tsa\\base\\tsa_model.py:834: ValueWarning: No supported index is available. Prediction results will be given with an integer index beginning at `start`.\n",
      "  return get_prediction_index(\n",
      "c:\\Users\\PETE\\AppData\\Local\\Programs\\Python\\Python311\\Lib\\site-packages\\statsmodels\\tsa\\base\\tsa_model.py:471: ValueWarning: A date index has been provided, but it has no associated frequency information and so will be ignored when e.g. forecasting.\n",
      "  self._init_dates(dates, freq)\n",
      "c:\\Users\\PETE\\AppData\\Local\\Programs\\Python\\Python311\\Lib\\site-packages\\statsmodels\\tsa\\base\\tsa_model.py:471: ValueWarning: A date index has been provided, but it is not monotonic and so will be ignored when e.g. forecasting.\n",
      "  self._init_dates(dates, freq)\n",
      "c:\\Users\\PETE\\AppData\\Local\\Programs\\Python\\Python311\\Lib\\site-packages\\statsmodels\\tsa\\base\\tsa_model.py:471: ValueWarning: A date index has been provided, but it has no associated frequency information and so will be ignored when e.g. forecasting.\n",
      "  self._init_dates(dates, freq)\n",
      "c:\\Users\\PETE\\AppData\\Local\\Programs\\Python\\Python311\\Lib\\site-packages\\statsmodels\\tsa\\base\\tsa_model.py:471: ValueWarning: A date index has been provided, but it is not monotonic and so will be ignored when e.g. forecasting.\n",
      "  self._init_dates(dates, freq)\n",
      "c:\\Users\\PETE\\AppData\\Local\\Programs\\Python\\Python311\\Lib\\site-packages\\statsmodels\\tsa\\statespace\\sarimax.py:866: UserWarning: Too few observations to estimate starting parameters for seasonal ARMA. All parameters except for variances will be set to zeros.\n",
      "  warn('Too few observations to estimate starting parameters%s.'\n",
      "c:\\Users\\PETE\\AppData\\Local\\Programs\\Python\\Python311\\Lib\\site-packages\\statsmodels\\tsa\\base\\tsa_model.py:834: ValueWarning: No supported index is available. Prediction results will be given with an integer index beginning at `start`.\n",
      "  return get_prediction_index(\n",
      "c:\\Users\\PETE\\AppData\\Local\\Programs\\Python\\Python311\\Lib\\site-packages\\statsmodels\\tsa\\base\\tsa_model.py:471: ValueWarning: A date index has been provided, but it has no associated frequency information and so will be ignored when e.g. forecasting.\n",
      "  self._init_dates(dates, freq)\n",
      "c:\\Users\\PETE\\AppData\\Local\\Programs\\Python\\Python311\\Lib\\site-packages\\statsmodels\\tsa\\base\\tsa_model.py:471: ValueWarning: A date index has been provided, but it is not monotonic and so will be ignored when e.g. forecasting.\n",
      "  self._init_dates(dates, freq)\n",
      "c:\\Users\\PETE\\AppData\\Local\\Programs\\Python\\Python311\\Lib\\site-packages\\statsmodels\\tsa\\base\\tsa_model.py:471: ValueWarning: A date index has been provided, but it has no associated frequency information and so will be ignored when e.g. forecasting.\n",
      "  self._init_dates(dates, freq)\n",
      "c:\\Users\\PETE\\AppData\\Local\\Programs\\Python\\Python311\\Lib\\site-packages\\statsmodels\\tsa\\base\\tsa_model.py:471: ValueWarning: A date index has been provided, but it is not monotonic and so will be ignored when e.g. forecasting.\n",
      "  self._init_dates(dates, freq)\n",
      "c:\\Users\\PETE\\AppData\\Local\\Programs\\Python\\Python311\\Lib\\site-packages\\statsmodels\\tsa\\statespace\\sarimax.py:866: UserWarning: Too few observations to estimate starting parameters for seasonal ARMA. All parameters except for variances will be set to zeros.\n",
      "  warn('Too few observations to estimate starting parameters%s.'\n",
      "c:\\Users\\PETE\\AppData\\Local\\Programs\\Python\\Python311\\Lib\\site-packages\\statsmodels\\tsa\\base\\tsa_model.py:834: ValueWarning: No supported index is available. Prediction results will be given with an integer index beginning at `start`.\n",
      "  return get_prediction_index(\n",
      "c:\\Users\\PETE\\AppData\\Local\\Programs\\Python\\Python311\\Lib\\site-packages\\statsmodels\\tsa\\base\\tsa_model.py:471: ValueWarning: A date index has been provided, but it has no associated frequency information and so will be ignored when e.g. forecasting.\n",
      "  self._init_dates(dates, freq)\n",
      "c:\\Users\\PETE\\AppData\\Local\\Programs\\Python\\Python311\\Lib\\site-packages\\statsmodels\\tsa\\base\\tsa_model.py:471: ValueWarning: A date index has been provided, but it is not monotonic and so will be ignored when e.g. forecasting.\n",
      "  self._init_dates(dates, freq)\n",
      "c:\\Users\\PETE\\AppData\\Local\\Programs\\Python\\Python311\\Lib\\site-packages\\statsmodels\\tsa\\base\\tsa_model.py:471: ValueWarning: A date index has been provided, but it has no associated frequency information and so will be ignored when e.g. forecasting.\n",
      "  self._init_dates(dates, freq)\n",
      "c:\\Users\\PETE\\AppData\\Local\\Programs\\Python\\Python311\\Lib\\site-packages\\statsmodels\\tsa\\base\\tsa_model.py:471: ValueWarning: A date index has been provided, but it is not monotonic and so will be ignored when e.g. forecasting.\n",
      "  self._init_dates(dates, freq)\n",
      "c:\\Users\\PETE\\AppData\\Local\\Programs\\Python\\Python311\\Lib\\site-packages\\statsmodels\\tsa\\statespace\\sarimax.py:866: UserWarning: Too few observations to estimate starting parameters for seasonal ARMA. All parameters except for variances will be set to zeros.\n",
      "  warn('Too few observations to estimate starting parameters%s.'\n",
      "c:\\Users\\PETE\\AppData\\Local\\Programs\\Python\\Python311\\Lib\\site-packages\\statsmodels\\tsa\\base\\tsa_model.py:834: ValueWarning: No supported index is available. Prediction results will be given with an integer index beginning at `start`.\n",
      "  return get_prediction_index(\n",
      "c:\\Users\\PETE\\AppData\\Local\\Programs\\Python\\Python311\\Lib\\site-packages\\statsmodels\\tsa\\base\\tsa_model.py:471: ValueWarning: A date index has been provided, but it has no associated frequency information and so will be ignored when e.g. forecasting.\n",
      "  self._init_dates(dates, freq)\n",
      "c:\\Users\\PETE\\AppData\\Local\\Programs\\Python\\Python311\\Lib\\site-packages\\statsmodels\\tsa\\base\\tsa_model.py:471: ValueWarning: A date index has been provided, but it is not monotonic and so will be ignored when e.g. forecasting.\n",
      "  self._init_dates(dates, freq)\n",
      "c:\\Users\\PETE\\AppData\\Local\\Programs\\Python\\Python311\\Lib\\site-packages\\statsmodels\\tsa\\base\\tsa_model.py:471: ValueWarning: A date index has been provided, but it has no associated frequency information and so will be ignored when e.g. forecasting.\n",
      "  self._init_dates(dates, freq)\n",
      "c:\\Users\\PETE\\AppData\\Local\\Programs\\Python\\Python311\\Lib\\site-packages\\statsmodels\\tsa\\base\\tsa_model.py:471: ValueWarning: A date index has been provided, but it is not monotonic and so will be ignored when e.g. forecasting.\n",
      "  self._init_dates(dates, freq)\n",
      "c:\\Users\\PETE\\AppData\\Local\\Programs\\Python\\Python311\\Lib\\site-packages\\statsmodels\\tsa\\statespace\\sarimax.py:866: UserWarning: Too few observations to estimate starting parameters for seasonal ARMA. All parameters except for variances will be set to zeros.\n",
      "  warn('Too few observations to estimate starting parameters%s.'\n",
      "c:\\Users\\PETE\\AppData\\Local\\Programs\\Python\\Python311\\Lib\\site-packages\\statsmodels\\tsa\\base\\tsa_model.py:834: ValueWarning: No supported index is available. Prediction results will be given with an integer index beginning at `start`.\n",
      "  return get_prediction_index(\n",
      "c:\\Users\\PETE\\AppData\\Local\\Programs\\Python\\Python311\\Lib\\site-packages\\statsmodels\\tsa\\base\\tsa_model.py:471: ValueWarning: A date index has been provided, but it has no associated frequency information and so will be ignored when e.g. forecasting.\n",
      "  self._init_dates(dates, freq)\n",
      "c:\\Users\\PETE\\AppData\\Local\\Programs\\Python\\Python311\\Lib\\site-packages\\statsmodels\\tsa\\base\\tsa_model.py:471: ValueWarning: A date index has been provided, but it is not monotonic and so will be ignored when e.g. forecasting.\n",
      "  self._init_dates(dates, freq)\n",
      "c:\\Users\\PETE\\AppData\\Local\\Programs\\Python\\Python311\\Lib\\site-packages\\statsmodels\\tsa\\base\\tsa_model.py:471: ValueWarning: A date index has been provided, but it has no associated frequency information and so will be ignored when e.g. forecasting.\n",
      "  self._init_dates(dates, freq)\n",
      "c:\\Users\\PETE\\AppData\\Local\\Programs\\Python\\Python311\\Lib\\site-packages\\statsmodels\\tsa\\base\\tsa_model.py:471: ValueWarning: A date index has been provided, but it is not monotonic and so will be ignored when e.g. forecasting.\n",
      "  self._init_dates(dates, freq)\n",
      "c:\\Users\\PETE\\AppData\\Local\\Programs\\Python\\Python311\\Lib\\site-packages\\statsmodels\\tsa\\statespace\\sarimax.py:866: UserWarning: Too few observations to estimate starting parameters for seasonal ARMA. All parameters except for variances will be set to zeros.\n",
      "  warn('Too few observations to estimate starting parameters%s.'\n",
      "c:\\Users\\PETE\\AppData\\Local\\Programs\\Python\\Python311\\Lib\\site-packages\\statsmodels\\tsa\\base\\tsa_model.py:834: ValueWarning: No supported index is available. Prediction results will be given with an integer index beginning at `start`.\n",
      "  return get_prediction_index(\n",
      "c:\\Users\\PETE\\AppData\\Local\\Programs\\Python\\Python311\\Lib\\site-packages\\statsmodels\\tsa\\base\\tsa_model.py:471: ValueWarning: A date index has been provided, but it has no associated frequency information and so will be ignored when e.g. forecasting.\n",
      "  self._init_dates(dates, freq)\n",
      "c:\\Users\\PETE\\AppData\\Local\\Programs\\Python\\Python311\\Lib\\site-packages\\statsmodels\\tsa\\base\\tsa_model.py:471: ValueWarning: A date index has been provided, but it is not monotonic and so will be ignored when e.g. forecasting.\n",
      "  self._init_dates(dates, freq)\n",
      "c:\\Users\\PETE\\AppData\\Local\\Programs\\Python\\Python311\\Lib\\site-packages\\statsmodels\\tsa\\base\\tsa_model.py:471: ValueWarning: A date index has been provided, but it has no associated frequency information and so will be ignored when e.g. forecasting.\n",
      "  self._init_dates(dates, freq)\n",
      "c:\\Users\\PETE\\AppData\\Local\\Programs\\Python\\Python311\\Lib\\site-packages\\statsmodels\\tsa\\base\\tsa_model.py:471: ValueWarning: A date index has been provided, but it is not monotonic and so will be ignored when e.g. forecasting.\n",
      "  self._init_dates(dates, freq)\n",
      "c:\\Users\\PETE\\AppData\\Local\\Programs\\Python\\Python311\\Lib\\site-packages\\statsmodels\\tsa\\statespace\\sarimax.py:866: UserWarning: Too few observations to estimate starting parameters for seasonal ARMA. All parameters except for variances will be set to zeros.\n",
      "  warn('Too few observations to estimate starting parameters%s.'\n",
      "c:\\Users\\PETE\\AppData\\Local\\Programs\\Python\\Python311\\Lib\\site-packages\\statsmodels\\tsa\\base\\tsa_model.py:834: ValueWarning: No supported index is available. Prediction results will be given with an integer index beginning at `start`.\n",
      "  return get_prediction_index(\n"
     ]
    }
   ],
   "source": [
    "\n",
    "col = 'tmax'\n",
    "# First, attempt to fill missing values using decomposition\n",
    "# fill_missing_with_decomposition(d,col)\n",
    "\n",
    "# Check if there are still missing values, and use SARIMA if necessary\n",
    "# if d[f'{col}_imputed'].isnull().sum() > 0:\n",
    "d = interpolate_and_sarima(d,col)\n"
   ]
  },
  {
   "cell_type": "code",
   "execution_count": 82,
   "metadata": {},
   "outputs": [
    {
     "data": {
      "text/plain": [
       "0"
      ]
     },
     "execution_count": 82,
     "metadata": {},
     "output_type": "execute_result"
    }
   ],
   "source": [
    "sum(d['tmax'].isna())"
   ]
  },
  {
   "cell_type": "code",
   "execution_count": 83,
   "metadata": {},
   "outputs": [],
   "source": [
    "d.to_csv('chk.csv')"
   ]
  },
  {
   "cell_type": "code",
   "execution_count": 34,
   "metadata": {},
   "outputs": [
    {
     "name": "stdout",
     "output_type": "stream",
     "text": [
      "<class 'pandas.core.frame.DataFrame'>\n",
      "RangeIndex: 11894 entries, 0 to 11893\n",
      "Data columns (total 7 columns):\n",
      " #   Column               Non-Null Count  Dtype         \n",
      "---  ------               --------------  -----         \n",
      " 0   time                 11894 non-null  datetime64[ns]\n",
      " 1   tavg                 11824 non-null  float64       \n",
      " 2   tmin                 10505 non-null  float64       \n",
      " 3   tmax                 11265 non-null  float64       \n",
      " 4   prcp                 7274 non-null   float64       \n",
      " 5   tmax_imputed         11712 non-null  float64       \n",
      " 6   tmax_imputed_sarima  11894 non-null  float64       \n",
      "dtypes: datetime64[ns](1), float64(6)\n",
      "memory usage: 650.6 KB\n",
      "(11894, 7) None\n"
     ]
    }
   ],
   "source": [
    "print(d.shape,d.info())"
   ]
  },
  {
   "cell_type": "code",
   "execution_count": 98,
   "metadata": {},
   "outputs": [
    {
     "name": "stdout",
     "output_type": "stream",
     "text": [
      "('./Temperature_And_Precipitation_Cities_IN', [], ['Bangalore_1990_2022_BangaloreCity.csv', 'Chennai_1990_2022_Madras.csv', 'Delhi_NCR_1990_2022_Safdarjung.csv', 'Lucknow_1990_2022.csv', 'Mumbai_1990_2022_Santacruz.csv', 'Rajasthan_1990_2022_Jodhpur.csv', 'Station_GeoLocation_Longitute_Latitude_Elevation_EPSG_4326.csv', 'weather_Bhubhneshwar_1990_2022.csv', 'weather_Rourkela_2021_2022.csv'])\n"
     ]
    }
   ],
   "source": [
    "for i in os.walk('./Temperature_And_Precipitation_Cities_IN'):\n",
    "    print(i)"
   ]
  },
  {
   "cell_type": "code",
   "execution_count": 99,
   "metadata": {},
   "outputs": [],
   "source": [
    "path = list(os.walk('./Temperature_And_Precipitation_Cities_IN'))"
   ]
  },
  {
   "cell_type": "code",
   "execution_count": 100,
   "metadata": {},
   "outputs": [],
   "source": [
    "cities = path[0][2]"
   ]
  },
  {
   "cell_type": "code",
   "execution_count": 102,
   "metadata": {},
   "outputs": [
    {
     "name": "stdout",
     "output_type": "stream",
     "text": [
      "c:\\Users\\PETE\\Desktop\\ADMIN\\CAPSTONE\\MODEL\\archive\\Temperature_And_Precipitation_Cities_IN\\Bangalore_1990_2022_BangaloreCity.csv\n",
      "(11894, 5) \n",
      "\n",
      "629 \n",
      "\n",
      "0 \n",
      "\n",
      "(0, 5)\n",
      "DONEBangalore_1990_2022_BangaloreCity.csv\n",
      "c:\\Users\\PETE\\Desktop\\ADMIN\\CAPSTONE\\MODEL\\archive\\Temperature_And_Precipitation_Cities_IN\\Chennai_1990_2022_Madras.csv\n",
      "(11894, 5) \n",
      "\n",
      "1019 \n",
      "\n",
      "0 \n",
      "\n",
      "(0, 5)\n",
      "DONEChennai_1990_2022_Madras.csv\n",
      "c:\\Users\\PETE\\Desktop\\ADMIN\\CAPSTONE\\MODEL\\archive\\Temperature_And_Precipitation_Cities_IN\\Delhi_NCR_1990_2022_Safdarjung.csv\n",
      "(11894, 5) \n",
      "\n",
      "533 \n",
      "\n",
      "0 \n",
      "\n",
      "(0, 5)\n",
      "DONEDelhi_NCR_1990_2022_Safdarjung.csv\n",
      "c:\\Users\\PETE\\Desktop\\ADMIN\\CAPSTONE\\MODEL\\archive\\Temperature_And_Precipitation_Cities_IN\\Lucknow_1990_2022.csv\n",
      "(11894, 5) \n",
      "\n",
      "1553 \n",
      "\n",
      "0 \n",
      "\n",
      "(0, 5)\n",
      "DONELucknow_1990_2022.csv\n",
      "c:\\Users\\PETE\\Desktop\\ADMIN\\CAPSTONE\\MODEL\\archive\\Temperature_And_Precipitation_Cities_IN\\Mumbai_1990_2022_Santacruz.csv\n",
      "(11894, 5) \n",
      "\n",
      "1907 \n",
      "\n",
      "ERROR in Mumbai_1990_2022_Santacruz.csv\n",
      "'int' object has no attribute 'days'\n",
      "c:\\Users\\PETE\\Desktop\\ADMIN\\CAPSTONE\\MODEL\\archive\\Temperature_And_Precipitation_Cities_IN\\Rajasthan_1990_2022_Jodhpur.csv\n",
      "(11894, 5) \n",
      "\n",
      "629 \n",
      "\n",
      "0 \n",
      "\n",
      "(0, 5)\n",
      "DONERajasthan_1990_2022_Jodhpur.csv\n",
      "c:\\Users\\PETE\\Desktop\\ADMIN\\CAPSTONE\\MODEL\\archive\\Temperature_And_Precipitation_Cities_IN\\Station_GeoLocation_Longitute_Latitude_Elevation_EPSG_4326.csv\n",
      "(8, 4) \n",
      "\n",
      "ERROR in Station_GeoLocation_Longitute_Latitude_Elevation_EPSG_4326.csv\n",
      "'tmax'\n",
      "c:\\Users\\PETE\\Desktop\\ADMIN\\CAPSTONE\\MODEL\\archive\\Temperature_And_Precipitation_Cities_IN\\weather_Bhubhneshwar_1990_2022.csv\n",
      "(11935, 11) \n",
      "\n",
      "891 \n",
      "\n",
      "0 \n",
      "\n",
      "(0, 11)\n",
      "DONEweather_Bhubhneshwar_1990_2022.csv\n",
      "c:\\Users\\PETE\\Desktop\\ADMIN\\CAPSTONE\\MODEL\\archive\\Temperature_And_Precipitation_Cities_IN\\weather_Rourkela_2021_2022.csv\n",
      "(426, 11) \n",
      "\n",
      "2 \n",
      "\n",
      "0 \n",
      "\n",
      "(0, 11)\n",
      "DONEweather_Rourkela_2021_2022.csv\n",
      "all done\n"
     ]
    }
   ],
   "source": [
    "for i in cities:\n",
    "    path = os.path.join(os.getcwd(),'Temperature_And_Precipitation_Cities_IN',i)\n",
    "    print(path)\n",
    "    d = pd.read_csv(path)\n",
    "    try:\n",
    "        print(d.shape,'\\n')\n",
    "        print(d['tmax'].isna().sum(),'\\n')\n",
    "        # d['time'] = pd.to_datetime(d['time'],errors='raise')\n",
    "        # d.set_index('date', inplace=True)\n",
    "\n",
    "        col = 'tmax'\n",
    "        # First, attempt to fill missing values using decomposition\n",
    "        # df_imputed = robust_interpolate_and_sarima(d, 'tmax')\n",
    "\n",
    "        # # Check if there are still missing values, and use SARIMA if necessary\n",
    "        # if d[f'{col}_imputed'].isnull().sum() > 0:\n",
    "        #     sarima_forecast_imputation(d,col)\n",
    "        df_imputed = robust_interpolate_and_sarima(d, 'tmax')\n",
    "\n",
    "        print(df_imputed['tmax'].isna().sum(),'\\n')\n",
    "        print(df_imputed[df_imputed['tmax'] <= 0].shape)\n",
    "        \n",
    "        # d['tmax'] = d['tmax_imputed_sarima']\n",
    "        \n",
    "        df_imputed.to_csv(f'imputed_{i}')\n",
    "        print(f'DONE{i}')\n",
    "        \n",
    "    except Exception as e: \n",
    "        print(f'ERROR in {i}')\n",
    "        print(e)\n",
    "        \n",
    "print('all done')\n"
   ]
  },
  {
   "cell_type": "code",
   "execution_count": null,
   "metadata": {},
   "outputs": [],
   "source": []
  }
 ],
 "metadata": {
  "kernelspec": {
   "display_name": "Python 3",
   "language": "python",
   "name": "python3"
  },
  "language_info": {
   "codemirror_mode": {
    "name": "ipython",
    "version": 3
   },
   "file_extension": ".py",
   "mimetype": "text/x-python",
   "name": "python",
   "nbconvert_exporter": "python",
   "pygments_lexer": "ipython3",
   "version": "3.11.1"
  }
 },
 "nbformat": 4,
 "nbformat_minor": 2
}
